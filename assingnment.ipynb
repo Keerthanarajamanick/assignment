{
 "cells": [
  {
   "cell_type": "code",
   "execution_count": 1,
   "id": "cf45fc25",
   "metadata": {
    "scrolled": true
   },
   "outputs": [
    {
     "name": "stdout",
     "output_type": "stream",
     "text": [
      "Requirement already satisfied: bs4 in c:\\programdata\\anaconda3\\lib\\site-packages (0.0.1)\n",
      "Requirement already satisfied: beautifulsoup4 in c:\\programdata\\anaconda3\\lib\\site-packages (from bs4) (4.10.0)\n",
      "Requirement already satisfied: soupsieve>1.2 in c:\\programdata\\anaconda3\\lib\\site-packages (from beautifulsoup4->bs4) (2.2.1)\n",
      "Note: you may need to restart the kernel to use updated packages.\n"
     ]
    }
   ],
   "source": [
    "pip install bs4"
   ]
  },
  {
   "cell_type": "code",
   "execution_count": 2,
   "id": "e3c6cab5",
   "metadata": {},
   "outputs": [],
   "source": [
    "import requests"
   ]
  },
  {
   "cell_type": "code",
   "execution_count": 3,
   "id": "fcf3ed5d",
   "metadata": {},
   "outputs": [],
   "source": [
    "url=\"https://www.flipkart.com/mobile-phones-store?fm=neo%2Fmerchandising&iid=M_47ee18b0-e012-4357-9fc5-3b7583af4bf3_1_372UD5BXDFYS_MC.ZRQ4DKH28K8J&otracker=hp_rich_navigation_2_1.navigationCard.RICH_NAVIGATION_Mobiles_ZRQ4DKH28K8J&otracker1=hp_rich_navigation_PINNED_neo%2Fmerchandising_NA_NAV_EXPANDABLE_navigationCard_cc_2_L0_view-all&cid=ZRQ4DKH28K8J\""
   ]
  },
  {
   "cell_type": "code",
   "execution_count": 4,
   "id": "255b8660",
   "metadata": {},
   "outputs": [],
   "source": [
    "permission=requests.get(url)"
   ]
  },
  {
   "cell_type": "code",
   "execution_count": 5,
   "id": "d2c2ea2f",
   "metadata": {},
   "outputs": [
    {
     "data": {
      "text/plain": [
       "<Response [200]>"
      ]
     },
     "execution_count": 5,
     "metadata": {},
     "output_type": "execute_result"
    }
   ],
   "source": [
    "permission\n"
   ]
  },
  {
   "cell_type": "code",
   "execution_count": 6,
   "id": "30a06d75",
   "metadata": {},
   "outputs": [],
   "source": [
    "from bs4 import BeautifulSoup"
   ]
  },
  {
   "cell_type": "code",
   "execution_count": 7,
   "id": "3e844f51",
   "metadata": {},
   "outputs": [],
   "source": [
    "TEXT_HTML=BeautifulSoup(permission.text)"
   ]
  },
  {
   "cell_type": "code",
   "execution_count": 8,
   "id": "e43e85ff",
   "metadata": {},
   "outputs": [
    {
     "data": {
      "text/plain": [
       "<!DOCTYPE html>\n",
       "<html lang=\"en\"><head><link href=\"https://rukminim1.flixcart.com\" rel=\"preconnect\"/><link href=\"//static-assets-web.flixcart.com/fk-p-linchpin-web/fk-cp-zion/css/app_modules.chunk.905c37.css\" rel=\"stylesheet\"/><link href=\"//static-assets-web.flixcart.com/fk-p-linchpin-web/fk-cp-zion/css/app.chunk.8f4f44.css\" rel=\"stylesheet\"/><meta content=\"text/html; charset=utf-8\" http-equiv=\"Content-type\"/><meta content=\"IE=Edge\" http-equiv=\"X-UA-Compatible\"/><meta content=\"102988293558\" property=\"fb:page_id\"/><meta content=\"658873552,624500995,100000233612389\" property=\"fb:admins\"/><meta content=\"noodp\" name=\"robots\"/><link href=\"https:///www/promos/new/20150528-140547-favicon-retina.ico\" rel=\"shortcut icon\"/><link href=\"/osdd.xml?v=2\" rel=\"search\" type=\"application/opensearchdescription+xml\"/><meta content=\"website\" property=\"og:type\"/><meta content=\"Flipkart.com\" name=\"og_site_name\" property=\"og:site_name\"/><link href=\"/apple-touch-icon-57x57.png\" rel=\"apple-touch-icon\" sizes=\"57x57\"/><link href=\"/apple-touch-icon-72x72.png\" rel=\"apple-touch-icon\" sizes=\"72x72\"/><link href=\"/apple-touch-icon-114x114.png\" rel=\"apple-touch-icon\" sizes=\"114x114\"/><link href=\"/apple-touch-icon-144x144.png\" rel=\"apple-touch-icon\" sizes=\"144x144\"/><link href=\"/apple-touch-icon-57x57.png\" rel=\"apple-touch-icon\"/><meta content=\"app\" name=\"twitter:card\"/><meta content=\"@flipkart\" name=\"twitter:site\"/><meta content=\"@flipkart\" name=\"twitter:creator\"/><meta content=\"Mobile Phones Online at Best Prices in India\" name=\"twitter:title\"/><meta content=\"Shop for electronics, apparels &amp; more using our Flipkart app Free shipping &amp; COD.\" name=\"twitter:description\"/><meta content=\"in\" name=\"twitter:app:country\"/><meta content=\"Flipkart\" name=\"al:ios:app_name\"/><meta content=\"742044692\" name=\"al:ios:app_store_id\"/><meta content=\"Flipkart\" name=\"twitter:app:name:iphone\"/><meta content=\"742044692\" name=\"twitter:app:id:iphone\"/><meta content=\"http://dl.flipkart.com/dl/home?\" name=\"twitter:app:url:iphone\"/><meta content=\"Flipkart\" name=\"twitter:app:name:ipad\"/><meta content=\"742044692\" name=\"twitter:app:id:ipad\"/><meta content=\"http://dl.flipkart.com/dl/home?\" name=\"twitter:app:url:ipad\"/><meta content=\"Flipkart\" name=\"twitter:app:name:googleplay\"/><meta content=\"com.flipkart.android\" name=\"twitter:app:id:googleplay\"/><meta content=\"http://dl.flipkart.com/dl/home?\" name=\"twitter:app:url:googleplay\"/><style>#container {\n",
       "\t\t\theight: 100%;\n",
       "\t\t}</style> <link href=\"///fk-cp-zion/css/CLP.chunk.de72ea.css\" rel=\"stylesheet\"/><title>Mobile Phones Online at Best Prices in India</title><meta content=\"Mobile Phones Online at Best Prices in India\" name=\"og_title\" property=\"og:title\"/><meta content=\"Mobile Phones Store, Mobile Phones Store Online Shopping\" name=\"Keywords\"/> <meta content=\"Buy mobile phones at best prices. Flipkart is the right platform for you to look for a mobile phone that fits your budget, technical and design requirements as we have phones ranging from Rs 350 up to Rs 1,00,000+.\" name=\"Description\"/><meta content=\"Buy mobile phones at best prices. Flipkart is the right platform for you to look for a mobile phone that fits your budget, technical and design requirements as we have phones ranging from Rs 350 up to Rs 1,00,000+.\" property=\"og:description\"/> <link href=\"https://www.flipkart.com/mobile-phones-store\" rel=\"canonical\"/> <meta content=\"https://www.flipkart.com/mobile-phones-store\" name=\"og_url\" property=\"og:url\"/><meta content=\"F4EEB3A0AFFDD385992A06E6920C0AC3\" name=\"msvalidate.01\"/> <!--[if IE 9 ]>\n",
       "\t<script nonce=\"7116402810293182979\">\n",
       "\t\twindow.browserVersion = 'IE9';\n",
       "\t\tdocument.documentElement.className += ' ie9';\n",
       "\t</script>\n",
       "\t<![endif]--><!--[if !IE]><!--><script nonce=\"7116402810293182979\">if (/*@cc_on!@*/false) {\n",
       "\t\t\twindow.browserVersion = 'IE10';\n",
       "\t\t\tdocument.documentElement.className += ' ie10';\n",
       "\t\t}</script><!--<![endif]--> <script nonce=\"7116402810293182979\">!function(){if(\"PerformancePaintTiming\" in window){var e=window.__perf={e:[]};e.o=new PerformanceObserver(function(n){e.e=e.e.concat(n.getEntries())});try{e.o.observe({entryTypes:[\"paint\"]})}catch(e){}}}();\n",
       "\n",
       "\t\tif (requestAnimationFrame && performance && performance.mark) {\n",
       "\t\t\trequestAnimationFrame(function () {\n",
       "\t\t\t\twindow.first_paint = performance.now();\n",
       "\t\t\t\tperformance.mark(\"first_paint\");\n",
       "\t\t\t});\n",
       "\t\t}\n",
       "\n",
       "        // web-vitals polyfill for FID\n",
       "        !function(n,e){var t,o,i,c=[],f={passive:!0,capture:!0},r=new Date,a=\"pointerup\",u=\"pointercancel\";function p(n,c){t||(t=c,o=n,i=new Date,w(e),s())}function s(){o>=0&&o<i-r&&(c.forEach(function(n){n(o,t)}),c=[])}function l(t){if(t.cancelable){var o=(t.timeStamp>1e12?new Date:performance.now())-t.timeStamp;\"pointerdown\"==t.type?function(t,o){function i(){p(t,o),r()}function c(){r()}function r(){e(a,i,f),e(u,c,f)}n(a,i,f),n(u,c,f)}(o,t):p(o,t)}}function w(n){[\"click\",\"mousedown\",\"keydown\",\"touchstart\",\"pointerdown\"].forEach(function(e){n(e,l,f)})}w(n),self.perfMetrics=self.perfMetrics||{},self.perfMetrics.onFirstInputDelay=function(n){c.push(n),s()}}(addEventListener,removeEventListener);</script><script async=\"\" src=\"https://www.googletagmanager.com/gtag/js?id=AW-594691041\"></script><script nonce=\"7116402810293182979\">window.dataLayer = window.dataLayer || [];\n",
       "\t\tfunction gtag(){dataLayer.push(arguments)};\n",
       "\t\tgtag('js', new Date());</script></head><body><div id=\"container\"><div><div class=\"_1kfTjk\"><div class=\"_1rH5Jn\"><div class=\"_1TmfNK\"></div><div class=\"_2Xfa2_\"><div class=\"_3_C9Hx\"><div class=\"_3qX0zy\"><a href=\"/\"><img alt=\"Flipkart\" class=\"_2xm1JU\" src=\"//static-assets-web.flixcart.com/fk-p-linchpin-web/fk-cp-zion/img/flipkart-plus_8d85f4.png\" title=\"Flipkart\" width=\"75\"/></a><a class=\"_21ljIi\" href=\"/plus\">Explore<!-- --> <span class=\"_2FVHGh\">Plus</span><img src=\"//static-assets-web.flixcart.com/fk-p-linchpin-web/fk-cp-zion/img/plus_aef861.png\" width=\"10\"/></a></div></div><div class=\"_1cmsER\"><form action=\"/search\" class=\"_2M8cLY header-form-search\" method=\"GET\"><div class=\"col-12-12 _2oO9oE\"><div class=\"_3OO5Xc\"><input autocomplete=\"off\" class=\"_3704LK\" name=\"q\" placeholder=\"Search for products, brands and more\" title=\"Search for products, brands and more\" type=\"text\" value=\"\"/></div><button class=\"L0Z3Pu\" type=\"submit\"><svg class=\"\" height=\"20\" viewbox=\"0 0 17 18\" width=\"20\" xmlns=\"http://www.w3.org/2000/svg\"><g fill=\"#2874F1\" fill-rule=\"evenodd\"><path class=\"_34RNph\" d=\"m11.618 9.897l4.225 4.212c.092.092.101.232.02.313l-1.465 1.46c-.081.081-.221.072-.314-.02l-4.216-4.203\"></path><path class=\"_34RNph\" d=\"m6.486 10.901c-2.42 0-4.381-1.956-4.381-4.368 0-2.413 1.961-4.369 4.381-4.369 2.42 0 4.381 1.956 4.381 4.369 0 2.413-1.961 4.368-4.381 4.368m0-10.835c-3.582 0-6.486 2.895-6.486 6.467 0 3.572 2.904 6.467 6.486 6.467 3.582 0 6.486-2.895 6.486-6.467 0-3.572-2.904-6.467-6.486-6.467\"></path></g></svg></button><input name=\"otracker\" type=\"hidden\" value=\"search\"/><input name=\"otracker1\" type=\"hidden\" value=\"search\"/><input name=\"marketplace\" type=\"hidden\" value=\"FLIPKART\"/><input name=\"as-show\" type=\"hidden\" value=\"off\"/><input name=\"as\" type=\"hidden\" value=\"off\"/></div><ul class=\"col-12-12 _1MRYA1\"></ul></form></div><div class=\"go_DOp _2errNR\"><div class=\"_28p97w\"><div class=\"_1psGvi _3BvnxG\"><div><a class=\"_1_3w1N\" href=\"/account/login?ret=/mobile-phones-store%3Ffm%3Dneo%252Fmerchandising%26iid%3DM_47ee18b0-e012-4357-9fc5-3b7583af4bf3_1_372UD5BXDFYS_MC.ZRQ4DKH28K8J%26otracker%3Dhp_rich_navigation_2_1.navigationCard.RICH_NAVIGATION_Mobiles_ZRQ4DKH28K8J%26otracker1%3Dhp_rich_navigation_PINNED_neo%252Fmerchandising_NA_NAV_EXPANDABLE_navigationCard_cc_2_L0_view-all%26cid%3DZRQ4DKH28K8J\">Login</a></div></div></div></div><div class=\"go_DOp\"><a class=\"_3-PJz-\" href=\"https://seller.flipkart.com/sell-online/?utm_source=fkwebsite&amp;utm_medium=websitedirect\"><span>Become a Seller</span></a></div><div class=\"go_DOp\"><div class=\"_28p97w\"><div class=\"_1psGvi _3BvnxG\"><div><div class=\"exehdJ\"> <!-- -->More<!-- --> </div></div></div><svg class=\"zZ3yfL\" height=\"8\" viewbox=\"0 0 16 27\" width=\"4.7\" xmlns=\"http://www.w3.org/2000/svg\"><path class=\"_2gTTdy\" d=\"M16 23.207L6.11 13.161 16 3.093 12.955 0 0 13.161l12.955 13.161z\" fill=\"#fff\"></path></svg></div></div><div class=\"go_DOp\"><div class=\"_1psGvi\"><div class=\"YUhWwv\"><a class=\"_3SkBxJ\" href=\"/viewcart?exploreMode=true&amp;preference=FLIPKART\"><svg class=\"V3C5bO\" height=\"14\" viewbox=\"0 0 16 16\" width=\"14\" xmlns=\"http://www.w3.org/2000/svg\"><path class=\"_1bS9ic\" d=\"M15.32 2.405H4.887C3 2.405 2.46.805 2.46.805L2.257.21C2.208.085 2.083 0 1.946 0H.336C.1 0-.064.24.024.46l.644 1.945L3.11 9.767c.047.137.175.23.32.23h8.418l-.493 1.958H3.768l.002.003c-.017 0-.033-.003-.05-.003-1.06 0-1.92.86-1.92 1.92s.86 1.92 1.92 1.92c.99 0 1.805-.75 1.91-1.712l5.55.076c.12.922.91 1.636 1.867 1.636 1.04 0 1.885-.844 1.885-1.885 0-.866-.584-1.593-1.38-1.814l2.423-8.832c.12-.433-.206-.86-.655-.86\" fill=\"#fff\"></path></svg><span>Cart</span></a></div></div></div></div><div class=\"_1TmfNK\"></div></div><div class=\"_1mUdNz\"></div></div><div class=\"_331-kn\"></div><div class=\"_6t1WkM _3HqJxg\"><div class=\"znxK_-\"><h1 class=\"_3vKRL2\">Mobile Phones</h1><div class=\"col gu12 _1c0opE _1P3kV7\"><div class=\"_1D76KH\"><p><span>Mobile phones are no more merely a part of our lives. Whether it's to stay connected with friends and family or to keep abreast of important developments around the world, mobiles are no longer for sending a text or making a call. From budget to state-of-the-art smartphones; indigenous names to global big-wigs - a whole universe of mobiles await you on Flipkart. Whether you’re looking for waterdrop notch screens, a high screen to body ratio, AI-powered sensational cameras, high storage capacity, blazing quick processing engines or reflective glass designs, rest assured you won’t have to venture anywhere else for your smartphone </span><span>needs. The information you are reading has been last updated on 08-Apr-23. </span></p><p></p><p><a href=\"/nothing-phone-1-black-256-gb/p/itmeea53a564de47\">Nothing Phone 1</a> | <a href=\"/google-pixel-6a-charcoal-128-gb/p/itme5ae89135d44e\">Google Pixel 6A</a> | <a href=\"/vivo-t1x-space-blue-64-gb/p/itm9e8207e7825a9\">vivo T1X</a> | <a href=\"/oppo-reno8-pro-5g-glazed-green-256-gb/p/itm30b1eb50ca71f\">OPPO Reno 8 Pro 5G</a> |  <a href=\"/oppo-reno7-pro-5g-startrails-blue-256-gb/p/itm9a6b0ca45fe90\">OPPO Reno7 Pro 5G</a> | <a href=\"/oppo-reno7-5g-starry-black-256-gb/p/itm6110d8481be93\">OPPO Reno7 5G</a> | <a href=\"/apple-iphone-13-pink-128-gb/p/itm6e30c6ee045d2\">iPhone 13</a> | <a href=\"/apple-iphone-13-pro-graphite-512-gb/p/itm5c4ef35fbe69f\">iPhone 13 Pro</a> | <a href=\"/apple-iphone-13-pro-max-sierra-blue-128-gb/p/itm5ede69d71530a\">iPhone 13 Pro Max</a> | <a href=\"/apple-iphone-13-mini-starlight-128-gb/p/itmcb65606f21fd3\">iPhone 13 Mini</a> | <a href=\"/apple-iphone-12-white-64-gb/p/itm8b88bdc03cd79\">iPhone 12</a> | <a href=\"/oppo-find-n2-flip-moonlit-purple-256-gb/p/itm8cfed9af48231\">OPPO Find N2 Flip</a></p></div></div></div><div class=\"_1AtVbE col-12-12\" style=\"padding:6px 0px 6px 0px\"><div class=\"_3WcRHs\"><div class=\"_3ywSr_\" style=\"padding-top:21.58%\"><div class=\"_1bEAQy _312yBx\" style=\"padding-top:21.58%\"><img alt=\"A\" class=\"_2OHU_q\"/><img alt=\"A\" class=\"kJjFO0 _3DIhEh\" src=\"https://rukminim1.flixcart.com/fk-p-flap/100/100/image/3d4fc4b3815f2124.jpg?q=50\"/></div></div></div></div><div class=\"_1YokD2 _2GoDe3\"><div class=\"_1AtVbE col-2-12\" style=\"padding:0px 16px 0px 0px\"><div class=\"_1KOcBL\"><section class=\"JWMl0H _2hbLCH\"><div class=\"_2ssEMF\"><div class=\"_3V8rao\"><span>Filters</span></div></div></section><div class=\"_2q_g77\"><section class=\"_2aDURW\"><div class=\"_2lfNTw\"><span>CATEGORIES</span></div><div><div class=\"TB_InB\"><span><svg class=\"_2Iqv73\" height=\"10\" viewbox=\"0 0 16 27\" width=\"10\" xmlns=\"http://www.w3.org/2000/svg\"><path class=\"_3zK8He\" d=\"M16 23.207L6.11 13.161 16 3.093 12.955 0 0 13.161l12.955 13.161z\" fill=\"#fff\"></path></svg></span><a class=\"_2qvBBJ _2Mji8F\" href=\"/mobiles-accessories/pr?sid=tyy&amp;otracker=categorytree\" title=\"Mobiles &amp; Accessories\">Mobiles &amp; Accessories</a></div></div><div><div class=\"TB_InB\"><span><svg class=\"_2Iqv73\" height=\"10\" viewbox=\"0 0 16 27\" width=\"10\" xmlns=\"http://www.w3.org/2000/svg\"><path class=\"\" d=\"M16 23.207L6.11 13.161 16 3.093 12.955 0 0 13.161l12.955 13.161z\" fill=\"#fff\"></path></svg></span><a class=\"_1jJQdf _2Mji8F\" href=\"/mobiles/pr?sid=tyy,4io&amp;otracker=categorytree\" title=\"Mobiles\">Mobiles</a></div></div></section></div><section class=\"_2yz7eI _2hbLCH\"><div class=\"_3KxRU6 _2ssEMF\"><div class=\"UR1L2I _3V8rao\"><span>Price</span></div></div><div class=\"_2NBiOm\"><div class=\"_1nneZ0\"><div class=\"_2TbXIJ\" style=\"height:0;width:0\"></div><div class=\"_2TbXIJ\" style=\"height:0;width:0\"></div><div class=\"_2TbXIJ\" style=\"height:0;width:0\"></div><div class=\"_2TbXIJ\" style=\"height:0;width:0\"></div><div class=\"_2TbXIJ\" style=\"height:0;width:0\"></div></div></div><div class=\"_2r34SG\"><div class=\"_12FhcQ\"><div class=\"_31Kbhn _28DFQy\"><div class=\"_3FdLqY\"></div></div><div class=\"_31Kbhn WC_zGJ\"><div class=\"_3FdLqY\"></div></div><div class=\"_2IN3-t\"></div><div class=\"_2IN3-t _1mRwrD\"></div></div><div class=\"_15GU70\"><div class=\"_1ftpgI\" style=\"width:undefinedpx\">.</div><div class=\"_1ftpgI\" style=\"width:undefinedpx\">.</div><div class=\"_1ftpgI\" style=\"width:undefinedpx\">.</div><div class=\"_1ftpgI\" style=\"width:undefinedpx\">.</div><div class=\"_1ftpgI\" style=\"width:undefinedpx\">.</div><div class=\"_1ftpgI\" style=\"width:0px\">.</div></div></div><div class=\"_2b0bUo\"><div class=\"_1YAKP4\"><select class=\"_2YxCDZ\"><option class=\"_3AsjWR\" selected=\"\" value=\"Min\">Min</option><option class=\"_3AsjWR\" value=\"10000\">₹10000</option><option class=\"_3AsjWR\" value=\"15000\">₹15000</option><option class=\"_3AsjWR\" value=\"20000\">₹20000</option><option class=\"_3AsjWR\" value=\"30000\">₹30000</option></select></div><div class=\"_3zohzR\">to</div><div class=\"_3uDYxP\"><select class=\"_2YxCDZ\"><option class=\"_3AsjWR\" value=\"10000\">₹10000</option><option class=\"_3AsjWR\" value=\"15000\">₹15000</option><option class=\"_3AsjWR\" value=\"20000\">₹20000</option><option class=\"_3AsjWR\" value=\"30000\">₹30000</option><option class=\"_3AsjWR\" selected=\"\" value=\"Max\">₹30000+</option></select></div></div></section><section class=\"_167Mu3 _2hbLCH\"><div class=\"_213eRC _2ssEMF\"><div class=\"_2gmUFU _3V8rao\">Brand</div><svg class=\"ttx38n _3DyGEM\" height=\"27\" viewbox=\"0 0 16 27\" width=\"16\" xmlns=\"http://www.w3.org/2000/svg\"><path class=\"IIvmWM\" d=\"M16 23.207L6.11 13.161 16 3.093 12.955 0 0 13.161l12.955 13.161z\" fill=\"#fff\"></path></svg></div><div class=\"_3FPh42\"><div class=\"_2d0we9\"><div class=\"_2pBqj6\"><svg class=\"_3WAvPc\" height=\"20\" viewbox=\"0 0 17 18\" width=\"20\" xmlns=\"http://www.w3.org/2000/svg\"><g fill=\"#2874F1\" fill-rule=\"evenodd\"><path class=\"-OwdlC\" d=\"m11.618 9.897l4.225 4.212c.092.092.101.232.02.313l-1.465 1.46c-.081.081-.221.072-.314-.02l-4.216-4.203\"></path><path class=\"-OwdlC\" d=\"m6.486 10.901c-2.42 0-4.381-1.956-4.381-4.368 0-2.413 1.961-4.369 4.381-4.369 2.42 0 4.381 1.956 4.381 4.369 0 2.413-1.961 4.368-4.381 4.368m0-10.835c-3.582 0-6.486 2.895-6.486 6.467 0 3.572 2.904 6.467 6.486 6.467 3.582 0 6.486-2.895 6.486-6.467 0-3.572-2.904-6.467-6.486-6.467\"></path></g></svg><input class=\"_34uFYj\" placeholder=\"Search Brand\" type=\"text\" value=\"\"/></div><div class=\"_4921Z t0pPfW\" title=\"realme\"><div class=\"_1Y4Vhm _4FO7b6\"><label class=\"_2iDkf8 t0pPfW\"><input class=\"_30VH1S\" readonly=\"\" type=\"checkbox\"/><div class=\"_24_Dny\"></div><div class=\"_3879cV\">realme</div></label></div></div><div class=\"_4921Z t0pPfW\" title=\"POCO\"><div class=\"_1Y4Vhm _4FO7b6\"><label class=\"_2iDkf8 t0pPfW\"><input class=\"_30VH1S\" readonly=\"\" type=\"checkbox\"/><div class=\"_24_Dny\"></div><div class=\"_3879cV\">POCO</div></label></div></div><div class=\"_4921Z t0pPfW\" title=\"Infinix\"><div class=\"_1Y4Vhm _4FO7b6\"><label class=\"_2iDkf8 t0pPfW\"><input class=\"_30VH1S\" readonly=\"\" type=\"checkbox\"/><div class=\"_24_Dny\"></div><div class=\"_3879cV\">Infinix</div></label></div></div><div class=\"_4921Z t0pPfW\" title=\"SAMSUNG\"><div class=\"_1Y4Vhm _4FO7b6\"><label class=\"_2iDkf8 t0pPfW\"><input class=\"_30VH1S\" readonly=\"\" type=\"checkbox\"/><div class=\"_24_Dny\"></div><div class=\"_3879cV\">SAMSUNG</div></label></div></div><div class=\"_4921Z t0pPfW\" title=\"Mi\"><div class=\"_1Y4Vhm _4FO7b6\"><label class=\"_2iDkf8 t0pPfW\"><input class=\"_30VH1S\" readonly=\"\" type=\"checkbox\"/><div class=\"_24_Dny\"></div><div class=\"_3879cV\">Mi</div></label></div></div><div class=\"_4921Z t0pPfW\" title=\"APPLE\"><div class=\"_1Y4Vhm _4FO7b6\"><label class=\"_2iDkf8 t0pPfW\"><input class=\"_30VH1S\" readonly=\"\" type=\"checkbox\"/><div class=\"_24_Dny\"></div><div class=\"_3879cV\">APPLE</div></label></div></div></div><div class=\"QvtND5 _2w_U27\"><span>158 MORE</span></div></div></section><section class=\"_2hbLCH _24gLJx\"><label class=\"_2iDkf8 shbqsL\"><input class=\"_30VH1S\" readonly=\"\" type=\"checkbox\"/><div class=\"_24_Dny _3tCU7L\"></div><div class=\"_3879cV\"><div class=\"_3U-Vxu\"><img class=\"_3U-Vxu\" height=\"21\" src=\"//static-assets-web.flixcart.com/fk-p-linchpin-web/fk-cp-zion/img/fa_62673a.png\"/></div></div></label><div class=\"Bv11UC\"><span class=\"question\">?</span></div></section><section class=\"_167Mu3 _2hbLCH\"><div class=\"_213eRC _2ssEMF\"><div class=\"_2gmUFU _3V8rao\">Customer Ratings</div><svg class=\"ttx38n _3DyGEM\" height=\"27\" viewbox=\"0 0 16 27\" width=\"16\" xmlns=\"http://www.w3.org/2000/svg\"><path class=\"IIvmWM\" d=\"M16 23.207L6.11 13.161 16 3.093 12.955 0 0 13.161l12.955 13.161z\" fill=\"#fff\"></path></svg></div><div class=\"_3FPh42\"><div class=\"_2d0we9\"><div class=\"_4921Z t0pPfW\" title=\"4★ &amp; above\"><div class=\"_1Y4Vhm _4FO7b6\"><label class=\"_2iDkf8 t0pPfW\"><input class=\"_30VH1S\" readonly=\"\" type=\"checkbox\"/><div class=\"_24_Dny\"></div><div class=\"_3879cV\">4★ &amp; above</div></label></div></div><div class=\"_4921Z t0pPfW\" title=\"3★ &amp; above\"><div class=\"_1Y4Vhm _4FO7b6\"><label class=\"_2iDkf8 t0pPfW\"><input class=\"_30VH1S\" readonly=\"\" type=\"checkbox\"/><div class=\"_24_Dny\"></div><div class=\"_3879cV\">3★ &amp; above</div></label></div></div></div></div></section><section class=\"_167Mu3 _2hbLCH\"><div class=\"_213eRC _2ssEMF\"><div class=\"_2gmUFU _3V8rao\">GST Invoice Available</div><svg class=\"ttx38n\" height=\"27\" viewbox=\"0 0 16 27\" width=\"16\" xmlns=\"http://www.w3.org/2000/svg\"><path class=\"IIvmWM\" d=\"M16 23.207L6.11 13.161 16 3.093 12.955 0 0 13.161l12.955 13.161z\" fill=\"#fff\"></path></svg></div></section><section class=\"_167Mu3 _2hbLCH\"><div class=\"_213eRC _2ssEMF\"><div class=\"_2gmUFU _3V8rao\">RAM</div><svg class=\"ttx38n _3DyGEM\" height=\"27\" viewbox=\"0 0 16 27\" width=\"16\" xmlns=\"http://www.w3.org/2000/svg\"><path class=\"IIvmWM\" d=\"M16 23.207L6.11 13.161 16 3.093 12.955 0 0 13.161l12.955 13.161z\" fill=\"#fff\"></path></svg></div><div class=\"_3FPh42\"><div class=\"_2d0we9\"><div class=\"_4921Z t0pPfW\" title=\"4 GB\"><div class=\"_1Y4Vhm _4FO7b6\"><label class=\"_2iDkf8 t0pPfW\"><input class=\"_30VH1S\" readonly=\"\" type=\"checkbox\"/><div class=\"_24_Dny\"></div><div class=\"_3879cV\">4 GB</div></label></div></div><div class=\"_4921Z t0pPfW\" title=\"3 GB\"><div class=\"_1Y4Vhm _4FO7b6\"><label class=\"_2iDkf8 t0pPfW\"><input class=\"_30VH1S\" readonly=\"\" type=\"checkbox\"/><div class=\"_24_Dny\"></div><div class=\"_3879cV\">3 GB</div></label></div></div><div class=\"_4921Z t0pPfW\" title=\"2 GB\"><div class=\"_1Y4Vhm _4FO7b6\"><label class=\"_2iDkf8 t0pPfW\"><input class=\"_30VH1S\" readonly=\"\" type=\"checkbox\"/><div class=\"_24_Dny\"></div><div class=\"_3879cV\">2 GB</div></label></div></div><div class=\"_4921Z t0pPfW\" title=\"1GB and Below\"><div class=\"_1Y4Vhm _4FO7b6\"><label class=\"_2iDkf8 t0pPfW\"><input class=\"_30VH1S\" readonly=\"\" type=\"checkbox\"/><div class=\"_24_Dny\"></div><div class=\"_3879cV\">1GB and Below</div></label></div></div><div class=\"_4921Z t0pPfW\" title=\"8 GB and Above\"><div class=\"_1Y4Vhm _4FO7b6\"><label class=\"_2iDkf8 t0pPfW\"><input class=\"_30VH1S\" readonly=\"\" type=\"checkbox\"/><div class=\"_24_Dny\"></div><div class=\"_3879cV\">8 GB and Above</div></label></div></div><div class=\"_4921Z t0pPfW\" title=\"6 GB\"><div class=\"_1Y4Vhm _4FO7b6\"><label class=\"_2iDkf8 t0pPfW\"><input class=\"_30VH1S\" readonly=\"\" type=\"checkbox\"/><div class=\"_24_Dny\"></div><div class=\"_3879cV\">6 GB</div></label></div></div></div></div></section><section class=\"_167Mu3 _2hbLCH\"><div class=\"_213eRC _2ssEMF\"><div class=\"_2gmUFU _3V8rao\">Internal Storage</div><svg class=\"ttx38n\" height=\"27\" viewbox=\"0 0 16 27\" width=\"16\" xmlns=\"http://www.w3.org/2000/svg\"><path class=\"IIvmWM\" d=\"M16 23.207L6.11 13.161 16 3.093 12.955 0 0 13.161l12.955 13.161z\" fill=\"#fff\"></path></svg></div></section><section class=\"_167Mu3 _2hbLCH\"><div class=\"_213eRC _2ssEMF\"><div class=\"_2gmUFU _3V8rao\">Battery Capacity</div><svg class=\"ttx38n\" height=\"27\" viewbox=\"0 0 16 27\" width=\"16\" xmlns=\"http://www.w3.org/2000/svg\"><path class=\"IIvmWM\" d=\"M16 23.207L6.11 13.161 16 3.093 12.955 0 0 13.161l12.955 13.161z\" fill=\"#fff\"></path></svg></div></section><section class=\"_167Mu3 _2hbLCH\"><div class=\"_213eRC _2ssEMF\"><div class=\"_2gmUFU _3V8rao\">Screen Size</div><svg class=\"ttx38n\" height=\"27\" viewbox=\"0 0 16 27\" width=\"16\" xmlns=\"http://www.w3.org/2000/svg\"><path class=\"IIvmWM\" d=\"M16 23.207L6.11 13.161 16 3.093 12.955 0 0 13.161l12.955 13.161z\" fill=\"#fff\"></path></svg></div></section><section class=\"_167Mu3 _2hbLCH\"><div class=\"_213eRC _2ssEMF\"><div class=\"_2gmUFU _3V8rao\">Primary Camera</div><svg class=\"ttx38n\" height=\"27\" viewbox=\"0 0 16 27\" width=\"16\" xmlns=\"http://www.w3.org/2000/svg\"><path class=\"IIvmWM\" d=\"M16 23.207L6.11 13.161 16 3.093 12.955 0 0 13.161l12.955 13.161z\" fill=\"#fff\"></path></svg></div></section><section class=\"_167Mu3 _2hbLCH\"><div class=\"_213eRC _2ssEMF\"><div class=\"_2gmUFU _3V8rao\">Secondary Camera</div><svg class=\"ttx38n\" height=\"27\" viewbox=\"0 0 16 27\" width=\"16\" xmlns=\"http://www.w3.org/2000/svg\"><path class=\"IIvmWM\" d=\"M16 23.207L6.11 13.161 16 3.093 12.955 0 0 13.161l12.955 13.161z\" fill=\"#fff\"></path></svg></div></section><section class=\"_167Mu3 _2hbLCH\"><div class=\"_213eRC _2ssEMF\"><div class=\"_2gmUFU _3V8rao\">Processor Brand</div><svg class=\"ttx38n\" height=\"27\" viewbox=\"0 0 16 27\" width=\"16\" xmlns=\"http://www.w3.org/2000/svg\"><path class=\"IIvmWM\" d=\"M16 23.207L6.11 13.161 16 3.093 12.955 0 0 13.161l12.955 13.161z\" fill=\"#fff\"></path></svg></div></section><section class=\"_167Mu3 _2hbLCH\"><div class=\"_213eRC _2ssEMF\"><div class=\"_2gmUFU _3V8rao\">Speciality</div><svg class=\"ttx38n\" height=\"27\" viewbox=\"0 0 16 27\" width=\"16\" xmlns=\"http://www.w3.org/2000/svg\"><path class=\"IIvmWM\" d=\"M16 23.207L6.11 13.161 16 3.093 12.955 0 0 13.161l12.955 13.161z\" fill=\"#fff\"></path></svg></div></section><section class=\"_167Mu3 _2hbLCH\"><div class=\"_213eRC _2ssEMF\"><div class=\"_2gmUFU _3V8rao\">Resolution Type</div><svg class=\"ttx38n\" height=\"27\" viewbox=\"0 0 16 27\" width=\"16\" xmlns=\"http://www.w3.org/2000/svg\"><path class=\"IIvmWM\" d=\"M16 23.207L6.11 13.161 16 3.093 12.955 0 0 13.161l12.955 13.161z\" fill=\"#fff\"></path></svg></div></section><section class=\"_167Mu3 _2hbLCH\"><div class=\"_213eRC _2ssEMF\"><div class=\"_2gmUFU _3V8rao\">Operating System</div><svg class=\"ttx38n\" height=\"27\" viewbox=\"0 0 16 27\" width=\"16\" xmlns=\"http://www.w3.org/2000/svg\"><path class=\"IIvmWM\" d=\"M16 23.207L6.11 13.161 16 3.093 12.955 0 0 13.161l12.955 13.161z\" fill=\"#fff\"></path></svg></div></section><section class=\"_167Mu3 _2hbLCH\"><div class=\"_213eRC _2ssEMF\"><div class=\"_2gmUFU _3V8rao\">Network Type</div><svg class=\"ttx38n\" height=\"27\" viewbox=\"0 0 16 27\" width=\"16\" xmlns=\"http://www.w3.org/2000/svg\"><path class=\"IIvmWM\" d=\"M16 23.207L6.11 13.161 16 3.093 12.955 0 0 13.161l12.955 13.161z\" fill=\"#fff\"></path></svg></div></section><section class=\"_167Mu3 _2hbLCH\"><div class=\"_213eRC _2ssEMF\"><div class=\"_2gmUFU _3V8rao\">Sim Type</div><svg class=\"ttx38n\" height=\"27\" viewbox=\"0 0 16 27\" width=\"16\" xmlns=\"http://www.w3.org/2000/svg\"><path class=\"IIvmWM\" d=\"M16 23.207L6.11 13.161 16 3.093 12.955 0 0 13.161l12.955 13.161z\" fill=\"#fff\"></path></svg></div></section><section class=\"_167Mu3 _2hbLCH\"><div class=\"_213eRC _2ssEMF\"><div class=\"_2gmUFU _3V8rao\">Offers</div><svg class=\"ttx38n _3DyGEM\" height=\"27\" viewbox=\"0 0 16 27\" width=\"16\" xmlns=\"http://www.w3.org/2000/svg\"><path class=\"IIvmWM\" d=\"M16 23.207L6.11 13.161 16 3.093 12.955 0 0 13.161l12.955 13.161z\" fill=\"#fff\"></path></svg></div><div class=\"_3FPh42\"><div class=\"_2d0we9\"><div class=\"_4921Z t0pPfW\" title=\"Buy More, Save More\"><div class=\"_1Y4Vhm _4FO7b6\"><label class=\"_2iDkf8 t0pPfW\"><input class=\"_30VH1S\" readonly=\"\" type=\"checkbox\"/><div class=\"_24_Dny\"></div><div class=\"_3879cV\">Buy More, Save More</div></label></div></div><div class=\"_4921Z t0pPfW\" title=\"No Cost EMI\"><div class=\"_1Y4Vhm _4FO7b6\"><label class=\"_2iDkf8 t0pPfW\"><input class=\"_30VH1S\" readonly=\"\" type=\"checkbox\"/><div class=\"_24_Dny\"></div><div class=\"_3879cV\">No Cost EMI</div></label></div></div><div class=\"_4921Z t0pPfW\" title=\"Special Price\"><div class=\"_1Y4Vhm _4FO7b6\"><label class=\"_2iDkf8 t0pPfW\"><input class=\"_30VH1S\" readonly=\"\" type=\"checkbox\"/><div class=\"_24_Dny\"></div><div class=\"_3879cV\">Special Price</div></label></div></div></div></div></section><section class=\"_167Mu3 _2hbLCH\"><div class=\"_213eRC _2ssEMF\"><div class=\"_2gmUFU _3V8rao\">Features</div><svg class=\"ttx38n\" height=\"27\" viewbox=\"0 0 16 27\" width=\"16\" xmlns=\"http://www.w3.org/2000/svg\"><path class=\"IIvmWM\" d=\"M16 23.207L6.11 13.161 16 3.093 12.955 0 0 13.161l12.955 13.161z\" fill=\"#fff\"></path></svg></div></section><section class=\"_167Mu3 _2hbLCH\"><div class=\"_213eRC _2ssEMF\"><div class=\"_2gmUFU _3V8rao\">Type</div><svg class=\"ttx38n\" height=\"27\" viewbox=\"0 0 16 27\" width=\"16\" xmlns=\"http://www.w3.org/2000/svg\"><path class=\"IIvmWM\" d=\"M16 23.207L6.11 13.161 16 3.093 12.955 0 0 13.161l12.955 13.161z\" fill=\"#fff\"></path></svg></div></section><section class=\"_167Mu3 _2hbLCH\"><div class=\"_213eRC _2ssEMF\"><div class=\"_2gmUFU _3V8rao\">Number of Cores</div><svg class=\"ttx38n\" height=\"27\" viewbox=\"0 0 16 27\" width=\"16\" xmlns=\"http://www.w3.org/2000/svg\"><path class=\"IIvmWM\" d=\"M16 23.207L6.11 13.161 16 3.093 12.955 0 0 13.161l12.955 13.161z\" fill=\"#fff\"></path></svg></div></section><section class=\"_167Mu3 _2hbLCH\"><div class=\"_213eRC _2ssEMF\"><div class=\"_2gmUFU _3V8rao\">Availability</div><svg class=\"ttx38n\" height=\"27\" viewbox=\"0 0 16 27\" width=\"16\" xmlns=\"http://www.w3.org/2000/svg\"><path class=\"IIvmWM\" d=\"M16 23.207L6.11 13.161 16 3.093 12.955 0 0 13.161l12.955 13.161z\" fill=\"#fff\"></path></svg></div></section><section class=\"_167Mu3 _2hbLCH\"><div class=\"_213eRC _2ssEMF\"><div class=\"_2gmUFU _3V8rao\">Discount</div><svg class=\"ttx38n _3DyGEM\" height=\"27\" viewbox=\"0 0 16 27\" width=\"16\" xmlns=\"http://www.w3.org/2000/svg\"><path class=\"IIvmWM\" d=\"M16 23.207L6.11 13.161 16 3.093 12.955 0 0 13.161l12.955 13.161z\" fill=\"#fff\"></path></svg></div><div class=\"_3FPh42\"><div class=\"_2d0we9\"><div class=\"_4921Z t0pPfW\" title=\"50% or more\"><div class=\"_1Y4Vhm _4FO7b6\"><label class=\"_2iDkf8 t0pPfW\"><input class=\"_30VH1S\" readonly=\"\" type=\"checkbox\"/><div class=\"_24_Dny\"></div><div class=\"_3879cV\">50% or more</div></label></div></div><div class=\"_4921Z t0pPfW\" title=\"40% or more\"><div class=\"_1Y4Vhm _4FO7b6\"><label class=\"_2iDkf8 t0pPfW\"><input class=\"_30VH1S\" readonly=\"\" type=\"checkbox\"/><div class=\"_24_Dny\"></div><div class=\"_3879cV\">40% or more</div></label></div></div><div class=\"_4921Z t0pPfW\" title=\"30% or more\"><div class=\"_1Y4Vhm _4FO7b6\"><label class=\"_2iDkf8 t0pPfW\"><input class=\"_30VH1S\" readonly=\"\" type=\"checkbox\"/><div class=\"_24_Dny\"></div><div class=\"_3879cV\">30% or more</div></label></div></div><div class=\"_4921Z t0pPfW\" title=\"20% or more\"><div class=\"_1Y4Vhm _4FO7b6\"><label class=\"_2iDkf8 t0pPfW\"><input class=\"_30VH1S\" readonly=\"\" type=\"checkbox\"/><div class=\"_24_Dny\"></div><div class=\"_3879cV\">20% or more</div></label></div></div><div class=\"_4921Z t0pPfW\" title=\"10% or more\"><div class=\"_1Y4Vhm _4FO7b6\"><label class=\"_2iDkf8 t0pPfW\"><input class=\"_30VH1S\" readonly=\"\" type=\"checkbox\"/><div class=\"_24_Dny\"></div><div class=\"_3879cV\">10% or more</div></label></div></div></div></div></section><section class=\"_167Mu3 _2hbLCH\"><div class=\"_213eRC _2ssEMF\"><div class=\"_2gmUFU _3V8rao\">Operating System Version Name</div><svg class=\"ttx38n\" height=\"27\" viewbox=\"0 0 16 27\" width=\"16\" xmlns=\"http://www.w3.org/2000/svg\"><path class=\"IIvmWM\" d=\"M16 23.207L6.11 13.161 16 3.093 12.955 0 0 13.161l12.955 13.161z\" fill=\"#fff\"></path></svg></div></section><section class=\"_167Mu3 _2hbLCH\"><div class=\"_213eRC _2ssEMF\"><div class=\"_2gmUFU _3V8rao\">Clock Speed</div><svg class=\"ttx38n\" height=\"27\" viewbox=\"0 0 16 27\" width=\"16\" xmlns=\"http://www.w3.org/2000/svg\"><path class=\"IIvmWM\" d=\"M16 23.207L6.11 13.161 16 3.093 12.955 0 0 13.161l12.955 13.161z\" fill=\"#fff\"></path></svg></div></section></div></div><div class=\"_1YokD2 _3Mn1Gg col-10-12\"><div class=\"_1AtVbE col-12-12\" style=\"padding:0px 0px 0px 0px\"><div class=\"_3E8aIl _2owwqH\"><div class=\"_3ZYowz _2CfYpZ\"><div class=\"mYI3GX\"><div class=\"_2hKRMr _2CfYpZ\" style=\"width:1642px\"><div class=\"_37K3-p\" style=\"-webkit-transform:translateX(0px);-moz-transform:translateX(0px);-o-transform:translateX(0px);-ms-transform:translateX(0px);transform:translateX(0px)\"><div class=\"_3YgSsQ\" style=\"width:204px\"><div><a class=\"h1Fvn6\" href=\"/mobiles/pr?sid=tyy%2C4io&amp;p%5B%5D=facets.brand%255B%255D%3Drealme&amp;p%5B%5D=facets.availability%255B%255D%3DExclude%2BOut%2Bof%2BStock&amp;param=7564&amp;ctx=eyJjYXJkQ29udGV4dCI6eyJhdHRyaWJ1dGVzIjp7InRpdGxlIjp7Im11bHRpVmFsdWVkQXR0cmlidXRlIjp7ImtleSI6InRpdGxlIiwiaW5mZXJlbmNlVHlwZSI6IlRJVExFIiwidmFsdWVzIjpbIlNob3AgTm93Il0sInZhbHVlVHlwZSI6Ik1VTFRJX1ZBTFVFRCJ9fX19fQ%3D%3D&amp;otracker=clp_metro_expandable_1_5.metroExpandable.METRO_EXPANDABLE_Shop%2BNow_mobile-phones-store_Q1PDG4YW86MF_wp3&amp;fm=neo%2Fmerchandising&amp;iid=M_28b54111-1437-462f-b073-f0e3a93e10be_5.Q1PDG4YW86MF&amp;ppt=None&amp;ppn=None&amp;ssid=rllqe38hkw0000001680935342328\"><div class=\"_HYyiu\"><img alt=\"Shop Now\" class=\"_1aPR5_\" src=\"https://rukminim1.flixcart.com/fk-p-flap/240/240/image/907c0aa66a4343e9.jpg?q=90\"/></div><p class=\"_1aqDWQ\">Shop Now</p></a></div></div><div class=\"_3YgSsQ\" style=\"width:204px\"><div><a class=\"h1Fvn6\" href=\"/mobiles/pr?sid=tyy%2C4io&amp;p%5B%5D=facets.brand%255B%255D%3DPOCO&amp;ctx=eyJjYXJkQ29udGV4dCI6eyJhdHRyaWJ1dGVzIjp7InRpdGxlIjp7Im11bHRpVmFsdWVkQXR0cmlidXRlIjp7ImtleSI6InRpdGxlIiwiaW5mZXJlbmNlVHlwZSI6IlRJVExFIiwidmFsdWVzIjpbIlNob3AgTm93Il0sInZhbHVlVHlwZSI6Ik1VTFRJX1ZBTFVFRCJ9fX19fQ%3D%3D&amp;otracker=clp_metro_expandable_2_5.metroExpandable.METRO_EXPANDABLE_Shop%2BNow_mobile-phones-store_O1WYX08RHODP_wp3&amp;fm=neo%2Fmerchandising&amp;iid=M_28b54111-1437-462f-b073-f0e3a93e10be_5.O1WYX08RHODP&amp;ppt=None&amp;ppn=None&amp;ssid=rllqe38hkw0000001680935342328\"><div class=\"_HYyiu\"><img alt=\"Shop Now\" class=\"_1aPR5_\" src=\"https://rukminim1.flixcart.com/fk-p-flap/240/240/image/1d3fa4dfd3d855f6.jpg?q=90\"/></div><p class=\"_1aqDWQ\">Shop Now</p></a></div></div><div class=\"_3YgSsQ\" style=\"width:204px\"><div><a class=\"h1Fvn6\" href=\"/mobiles/pr?sid=tyy%2C4io&amp;p%5B%5D=facets.availability%255B%255D%3DExclude%2BOut%2Bof%2BStock&amp;param=7564&amp;ctx=eyJjYXJkQ29udGV4dCI6eyJhdHRyaWJ1dGVzIjp7InRpdGxlIjp7Im11bHRpVmFsdWVkQXR0cmlidXRlIjp7ImtleSI6InRpdGxlIiwiaW5mZXJlbmNlVHlwZSI6IlRJVExFIiwidmFsdWVzIjpbIlNob3AgTm93Il0sInZhbHVlVHlwZSI6Ik1VTFRJX1ZBTFVFRCJ9fX19fQ%3D%3D&amp;fm=neo%2Fmerchandising&amp;iid=M_b49965b5-ad80-4493-88b1-7a1828555879_3.Q1PDG4YW86MF&amp;ppt=hp&amp;ppn=homepage&amp;ssid=paxle4idvk0000001669033731730&amp;p%5B%5D=facets.brand%255B%255D%3DGoogle&amp;ctx=eyJjYXJkQ29udGV4dCI6eyJhdHRyaWJ1dGVzIjp7InRpdGxlIjp7Im11bHRpVmFsdWVkQXR0cmlidXRlIjp7ImtleSI6InRpdGxlIiwiaW5mZXJlbmNlVHlwZSI6IlRJVExFIiwidmFsdWVzIjpbIkdPT0dMRSJdLCJ2YWx1ZVR5cGUiOiJNVUxUSV9WQUxVRUQifX19fX0%3D&amp;otracker=clp_metro_expandable_3_5.metroExpandable.METRO_EXPANDABLE_GOOGLE_mobile-phones-store_0TAYGN3KGJ9F_wp3&amp;fm=neo%2Fmerchandising&amp;iid=M_28b54111-1437-462f-b073-f0e3a93e10be_5.0TAYGN3KGJ9F&amp;ppt=None&amp;ppn=None&amp;ssid=rllqe38hkw0000001680935342328\"><div class=\"_HYyiu\"><img alt=\"GOOGLE\" class=\"_1aPR5_\" src=\"https://rukminim1.flixcart.com/fk-p-flap/240/240/image/3738381ad5b01e6a.jpg?q=90\"/></div><p class=\"_1aqDWQ\">GOOGLE</p></a></div></div><div class=\"_3YgSsQ\" style=\"width:204px\"><div><a class=\"h1Fvn6\" href=\"/mobiles/pr?sid=tyy%2C4io&amp;p%5B%5D=facets.brand%255B%255D%3DOPPO&amp;p%5B%5D=facets.availability%255B%255D%3DExclude%2BOut%2Bof%2BStock&amp;ctx=eyJjYXJkQ29udGV4dCI6eyJhdHRyaWJ1dGVzIjp7InRpdGxlIjp7Im11bHRpVmFsdWVkQXR0cmlidXRlIjp7ImtleSI6InRpdGxlIiwiaW5mZXJlbmNlVHlwZSI6IlRJVExFIiwidmFsdWVzIjpbIlNob3AgTm93Il0sInZhbHVlVHlwZSI6Ik1VTFRJX1ZBTFVFRCJ9fX19fQ%3D%3D&amp;otracker=clp_metro_expandable_4_5.metroExpandable.METRO_EXPANDABLE_Shop%2BNow_mobile-phones-store_YN2R24UWDDQ8_wp3&amp;fm=neo%2Fmerchandising&amp;iid=M_28b54111-1437-462f-b073-f0e3a93e10be_5.YN2R24UWDDQ8&amp;ppt=None&amp;ppn=None&amp;ssid=rllqe38hkw0000001680935342328\"><div class=\"_HYyiu\"><img alt=\"Shop Now\" class=\"_1aPR5_\" src=\"https://rukminim1.flixcart.com/fk-p-flap/240/240/image/3ac5499f6d57842f.jpg?q=90\"/></div><p class=\"_1aqDWQ\">Shop Now</p></a></div></div><div class=\"_3YgSsQ\" style=\"width:204px\"><div><a class=\"h1Fvn6\" href=\"/mobiles/pr?sid=tyy%2C4io&amp;p%5B%5D=facets.brand%255B%255D%3DVivo&amp;ctx=eyJjYXJkQ29udGV4dCI6eyJhdHRyaWJ1dGVzIjp7InRpdGxlIjp7Im11bHRpVmFsdWVkQXR0cmlidXRlIjp7ImtleSI6InRpdGxlIiwiaW5mZXJlbmNlVHlwZSI6IlRJVExFIiwidmFsdWVzIjpbIlZJVk8iXSwidmFsdWVUeXBlIjoiTVVMVElfVkFMVUVEIn19fX19&amp;otracker=clp_metro_expandable_5_5.metroExpandable.METRO_EXPANDABLE_VIVO_mobile-phones-store_3Z3SLACO8AXE_wp3&amp;fm=neo%2Fmerchandising&amp;iid=M_28b54111-1437-462f-b073-f0e3a93e10be_5.3Z3SLACO8AXE&amp;ppt=None&amp;ppn=None&amp;ssid=rllqe38hkw0000001680935342328\"><div class=\"_HYyiu\"><img alt=\"VIVO\" class=\"_1aPR5_\" src=\"https://rukminim1.flixcart.com/fk-p-flap/240/240/image/78e19d9f245aa588.jpg?q=90\"/></div><p class=\"_1aqDWQ\">VIVO</p></a></div></div><div class=\"_3YgSsQ\" style=\"width:204px\"><div><a class=\"h1Fvn6\" href=\"/mobiles/pr?sid=tyy%2C4io&amp;p%5B%5D=facets.availability%255B%255D%3DExclude%2BOut%2Bof%2BStock&amp;p%5B%5D=facets.brand%255B%255D%3DInfinix&amp;p%5B%5D=facets.type%255B%255D%3DSmartphones&amp;ctx=eyJjYXJkQ29udGV4dCI6eyJhdHRyaWJ1dGVzIjp7InRpdGxlIjp7Im11bHRpVmFsdWVkQXR0cmlidXRlIjp7ImtleSI6InRpdGxlIiwiaW5mZXJlbmNlVHlwZSI6IlRJVExFIiwidmFsdWVzIjpbIlNob3AgTm93Il0sInZhbHVlVHlwZSI6Ik1VTFRJX1ZBTFVFRCJ9fX19fQ%3D%3D&amp;otracker=clp_metro_expandable_6_5.metroExpandable.METRO_EXPANDABLE_Shop%2BNow_mobile-phones-store_9JP4HILJEVN8_wp3&amp;fm=neo%2Fmerchandising&amp;iid=M_28b54111-1437-462f-b073-f0e3a93e10be_5.9JP4HILJEVN8&amp;ppt=None&amp;ppn=None&amp;ssid=rllqe38hkw0000001680935342328\"><div class=\"_HYyiu\"><img alt=\"Shop Now\" class=\"_1aPR5_\" src=\"https://rukminim1.flixcart.com/fk-p-flap/240/240/image/0f5ade4858e4f100.jpg?q=90\"/></div><p class=\"_1aqDWQ\">Shop Now</p></a></div></div><div class=\"_3YgSsQ\" style=\"width:204px\"><div><a class=\"h1Fvn6\" href=\"/mobiles/mi~brand/pr?sid=tyy%2C4io&amp;ctx=eyJjYXJkQ29udGV4dCI6eyJhdHRyaWJ1dGVzIjp7InRpdGxlIjp7Im11bHRpVmFsdWVkQXR0cmlidXRlIjp7ImtleSI6InRpdGxlIiwiaW5mZXJlbmNlVHlwZSI6IlRJVExFIiwidmFsdWVzIjpbIlNob3AgTm93Il0sInZhbHVlVHlwZSI6Ik1VTFRJX1ZBTFVFRCJ9fX19fQ%3D%3D&amp;otracker=clp_metro_expandable_7_5.metroExpandable.METRO_EXPANDABLE_Shop%2BNow_mobile-phones-store_OUJ0NDXWZCCJ_wp3&amp;fm=neo%2Fmerchandising&amp;iid=M_28b54111-1437-462f-b073-f0e3a93e10be_5.OUJ0NDXWZCCJ&amp;ppt=None&amp;ppn=None&amp;ssid=rllqe38hkw0000001680935342328\"><div class=\"_HYyiu\"><img alt=\"Shop Now\" class=\"_1aPR5_\" src=\"https://rukminim1.flixcart.com/flap/240/240/image/d3d04a6c6ca21475.jpg?q=90\"/></div><p class=\"_1aqDWQ\">Shop Now</p></a></div></div><div class=\"_3YgSsQ\" style=\"width:204px\"><div><a class=\"h1Fvn6\" href=\"/mobiles/~cs-pd2gcimfry/pr?sid=tyy%2C4io&amp;collection-tab-name=Nothing+Phone+1&amp;param=23556124&amp;ctx=eyJjYXJkQ29udGV4dCI6eyJhdHRyaWJ1dGVzIjp7InRpdGxlIjp7Im11bHRpVmFsdWVkQXR0cmlidXRlIjp7ImtleSI6InRpdGxlIiwiaW5mZXJlbmNlVHlwZSI6IlRJVExFIiwidmFsdWVzIjpbIk5vdGhpbmciXSwidmFsdWVUeXBlIjoiTVVMVElfVkFMVUVEIn19fX19&amp;otracker=clp_metro_expandable_8_5.metroExpandable.METRO_EXPANDABLE_Nothing_mobile-phones-store_ZWTSGLQ2SQFJ_wp3&amp;fm=neo%2Fmerchandising&amp;iid=M_28b54111-1437-462f-b073-f0e3a93e10be_5.ZWTSGLQ2SQFJ&amp;ppt=None&amp;ppn=None&amp;ssid=rllqe38hkw0000001680935342328\"><div class=\"_HYyiu\"><img alt=\"Nothing\" class=\"_1aPR5_\" src=\"https://rukminim1.flixcart.com/flap/240/240/image/4d72040bd5aaf76a.jpg?q=90\"/></div><p class=\"_1aqDWQ\">Nothing</p></a></div></div></div></div><div class=\"_35l9rN rek5UH _1tKnHb\"><div class=\"_2kgArB _3y7w9p\"><svg class=\"\" height=\"24\" viewbox=\"0 0 16 27\" width=\"14.6\" xmlns=\"http://www.w3.org/2000/svg\"><path class=\"_23HYg_\" d=\"M16 23.207L6.11 13.161 16 3.093 12.955 0 0 13.161l12.955 13.161z\" fill=\"#fff\"></path></svg></div></div><div class=\"_35l9rN _31Mq1b\"><div class=\"_2kgArB _2CP_Bu\"><svg class=\"_1xtBwk\" height=\"24\" viewbox=\"0 0 16 27\" width=\"14.6\" xmlns=\"http://www.w3.org/2000/svg\"><path class=\"_23HYg_\" d=\"M16 23.207L6.11 13.161 16 3.093 12.955 0 0 13.161l12.955 13.161z\" fill=\"#fff\"></path></svg></div></div></div></div></div></div><div class=\"_1AtVbE col-12-12\" style=\"padding:0px 0px 0px 0px\"><div class=\"_3WcRHs\"><div class=\"_3ywSr_\" style=\"padding-top:8.63%\"><div class=\"_1bEAQy _312yBx\" style=\"padding-top:8.63%\"><img alt=\"Upcoming-sales-Flexi\" class=\"_2OHU_q\"/><img alt=\"Upcoming-sales-Flexi\" class=\"kJjFO0 _3DIhEh\" src=\"https://rukminim1.flixcart.com/flap/100/100/image/fa01a425feabd334.jpg?q=50\"/></div></div></div></div><div class=\"_1AtVbE col-12-12\" style=\"padding:0px 0px 0px 0px\"><div class=\"_3ChZRr _1rs5Pv\"><div class=\"_1ve3GO\"><a class=\"_2a3TMW\" href=\"/poco-c51-royal-blue-64-gb/p/itm1e4e8373537a7?pid=MOBGZCQFCWNDK89P&amp;param=7676&amp;otracker=clp_bannerads_1_9.bannerAdCard.BANNERADS_POCO%2BC51%2BPL_mobile-phones-store_OLMNNLJTYMYS\" target=\"\"><div class=\"_1bEAQy\" style=\"width:100%;height:280px\"><img alt=\"POCO C51 PL\" class=\"_2OHU_q\"/><img alt=\"POCO C51 PL\" class=\"kJjFO0\" src=\"https://rukminim1.flixcart.com/fk-p-flap/844/140/image/9ca4142804051c81.jpg?q=50\"/></div></a></div></div></div><div class=\"_1AtVbE col-12-12\" style=\"padding:0px 0px 0px 0px\"><div class=\"_3WcRHs\"><div class=\"_3ywSr_\" style=\"padding-top:8.63%\"><div class=\"_1bEAQy _312yBx\" style=\"padding-top:8.63%\"><img alt=\"Upcoming Launches\" class=\"_2OHU_q\"/><img alt=\"Upcoming Launches\" class=\"kJjFO0 _3DIhEh\" src=\"https://rukminim1.flixcart.com/fk-p-flap/100/100/image/45b9b99744a7b730.jpg?q=50\"/></div></div></div></div><div class=\"_1AtVbE col-12-12\" style=\"padding:0px 0px 0px 0px\"><div class=\"_3ChZRr _1rs5Pv\"><div class=\"_1ve3GO\"><a class=\"_2a3TMW\" href=\"/vivo-t2-5g-series-coming-soon-32err32d-store?param=339432042&amp;otracker=clp_bannerads_1_14.bannerAdCard.BANNERADS_Vivo%2BT2%2B5G%2B_mobile-phones-store_D9F7NDJE8LGY\" target=\"\"><div class=\"_1bEAQy\" style=\"width:100%;height:280px\"><img alt=\"Vivo T2 5G \" class=\"_2OHU_q\"/><img alt=\"Vivo T2 5G \" class=\"kJjFO0\" src=\"https://rukminim1.flixcart.com/fk-p-flap/844/140/image/0bed0cac122acb58.jpg?q=50\"/></div></a></div></div></div><div class=\"_1AtVbE col-12-12\" style=\"padding:0px 0px 16px 0px\"><div class=\"_3WcRHs\"><div class=\"_3ywSr_\" style=\"padding-top:8.63%\"><div class=\"_1bEAQy _312yBx\" style=\"padding-top:8.63%\"><img alt=\"Mob-NL-Header\" class=\"_2OHU_q\"/><img alt=\"Mob-NL-Header\" class=\"kJjFO0 _3DIhEh\" src=\"https://rukminim1.flixcart.com/flap/100/100/image/2c5966b93dac7f7e.jpg?q=50\"/></div></div></div></div><div class=\"_1AtVbE col-12-12\" style=\"padding:0px 0px 0px 0px\"><div class=\"_3ChZRr _1rs5Pv\"><div class=\"_1ve3GO\"><a class=\"_2a3TMW\" href=\"/mobiles/~cs-qgbamepqlx/pr?sid=tyy%2C4io&amp;collection-tab-name=Redmi+Note+12&amp;param=88988&amp;otracker=clp_bannerads_1_16.bannerAdCard.BANNERADS_A_mobile-phones-store_ZC3YCANITHC2\" target=\"\"><div class=\"_1bEAQy\" style=\"width:100%;height:280px\"><img alt=\"A\" class=\"_2OHU_q\"/><img alt=\"A\" class=\"kJjFO0\" src=\"https://rukminim1.flixcart.com/fk-p-flap/844/140/image/de2914c3b6d0a26b.jpg?q=50\"/></div></a></div></div></div><div class=\"_1AtVbE col-12-12\" style=\"padding:0px 0px 0px 0px\"><div class=\"_3ChZRr _1rs5Pv\"><div class=\"_1ve3GO\"><a class=\"_2a3TMW\" href=\"/motorola-g13-lavender-blue-128-gb/p/itm33a28df3f670c?pid=MOBGM2EHC4YKWXMB&amp;param=2332&amp;otracker=clp_bannerads_1_17.bannerAdCard.BANNERADS_fdgvdc_mobile-phones-store_F2CQ4ABRSGAO\" target=\"\"><div class=\"_1bEAQy\" style=\"width:100%;height:280px\"><img alt=\"fdgvdc\" class=\"_2OHU_q\"/><img alt=\"fdgvdc\" class=\"kJjFO0\" src=\"https://rukminim1.flixcart.com/fk-p-flap/844/140/image/d4fc7ebf65bfc498.jpg?q=50\"/></div></a></div></div></div><div class=\"_1AtVbE col-12-12\" style=\"padding:0px 0px 0px 0px\"><div class=\"_3ChZRr _1rs5Pv\"><div class=\"_1ve3GO\"><a class=\"_2a3TMW\" href=\"/mobiles/~cs-0q9x3mcc5j/pr?sid=tyy%2C4io&amp;collection-tab-name=Realme+c33+2023&amp;param=56789&amp;otracker=clp_bannerads_1_18.bannerAdCard.BANNERADS_A_mobile-phones-store_Z2JA7XD82GD7\" target=\"\"><div class=\"_1bEAQy\" style=\"width:100%;height:280px\"><img alt=\"A\" class=\"_2OHU_q\"/><img alt=\"A\" class=\"kJjFO0\" src=\"https://rukminim1.flixcart.com/fk-p-flap/844/140/image/17044d99baf8f73f.jpg?q=50\"/></div></a></div></div></div><div class=\"_1AtVbE col-12-12\" style=\"padding:0px 0px 0px 0px\"><div class=\"_3ChZRr _1rs5Pv\"><div class=\"_1ve3GO\"><a class=\"_2a3TMW\" href=\"/mobiles/~cs-817ef5cp9m/pr?sid=tyy%2C4io&amp;collection-tab-name=Samsung+F14&amp;param=587659&amp;otracker=clp_bannerads_1_19.bannerAdCard.BANNERADS_A_mobile-phones-store_KDO92HMAX92N\" target=\"\"><div class=\"_1bEAQy\" style=\"width:100%;height:280px\"><img alt=\"A\" class=\"_2OHU_q\"/><img alt=\"A\" class=\"kJjFO0\" src=\"https://rukminim1.flixcart.com/fk-p-flap/844/140/image/ff23ee143f2a3f50.jpg?q=50\"/></div></a></div></div></div><div class=\"_1AtVbE col-12-12\" style=\"padding:0px 0px 0px 0px\"><div class=\"_3ChZRr _1rs5Pv\"><div class=\"_1ve3GO\"><a class=\"_2a3TMW\" href=\"/mobiles/~cs-dlb3fdywcd/pr?sid=tyy%2C4io&amp;collection-tab-name=realme+C55&amp;param=8627362&amp;otracker=clp_bannerads_1_20.bannerAdCard.BANNERADS_A_mobile-phones-store_53EBYE2TQW27\" target=\"\"><div class=\"_1bEAQy\" style=\"width:100%;height:280px\"><img alt=\"A\" class=\"_2OHU_q\"/><img alt=\"A\" class=\"kJjFO0\" src=\"https://rukminim1.flixcart.com/fk-p-flap/844/140/image/004194aefe52da3a.jpg?q=50\"/></div></a></div></div></div><div class=\"_1AtVbE col-12-12\" style=\"padding:0px 0px 0px 0px\"><div class=\"_3ChZRr _1rs5Pv\"><div class=\"_1ve3GO\"><a class=\"_2a3TMW\" href=\"/tyy/4io/~cs-h9caupz2dl/pr?sid=tyy%2C4io&amp;collection-tab-name=Infinix+Hot+30i&amp;param=5857666&amp;otracker=clp_bannerads_1_21.bannerAdCard.BANNERADS_A_mobile-phones-store_AH02PTRUX9F8\" target=\"\"><div class=\"_1bEAQy\" style=\"width:100%;height:280px\"><img alt=\"A\" class=\"_2OHU_q\"/><img alt=\"A\" class=\"kJjFO0\" src=\"https://rukminim1.flixcart.com/fk-p-flap/844/140/image/2106ca391562c0f8.jpg?q=50\"/></div></a></div></div></div><div class=\"_1AtVbE col-12-12\" style=\"padding:0px 0px 0px 0px\"><div class=\"_3ChZRr _1rs5Pv\"><div class=\"_1ve3GO\"><a class=\"_2a3TMW\" href=\"/mobiles/~cs-ai0net2qn6/pr?sid=tyy%2C4io&amp;collection-tab-name=vivo+V27+5G&amp;param=5678&amp;otracker=clp_bannerads_1_22.bannerAdCard.BANNERADS_A_mobile-phones-store_0NNRHF09GYJC\" target=\"\"><div class=\"_1bEAQy\" style=\"width:100%;height:280px\"><img alt=\"A\" class=\"_2OHU_q\"/><img alt=\"A\" class=\"kJjFO0\" src=\"https://rukminim1.flixcart.com/fk-p-flap/844/140/image/699670094eb65563.jpg?q=50\"/></div></a></div></div></div><div class=\"_1AtVbE col-12-12\" style=\"padding:0px 0px 0px 0px\"><div class=\"_3ChZRr _1rs5Pv\"><div class=\"_1ve3GO\"><a class=\"_2a3TMW\" href=\"/mobiles/~cs-rg7jrrk48l/pr?sid=tyy%2C4io&amp;collection-tab-name=POCO+X5+5G&amp;param=3434345&amp;otracker=clp_bannerads_1_23.bannerAdCard.BANNERADS_Poco-X5-5G-CLP-PL-Sale-is-On-DT_mobile-phones-store_QONAN6VS9PB1\" target=\"\"><div class=\"_1bEAQy\" style=\"width:100%;height:280px\"><img alt=\"Poco-X5-5G-CLP-PL-Sale-is-On-DT\" class=\"_2OHU_q\"/><img alt=\"Poco-X5-5G-CLP-PL-Sale-is-On-DT\" class=\"kJjFO0\" src=\"https://rukminim1.flixcart.com/fk-p-flap/844/140/image/35232a556cae695c.jpg?q=50\"/></div></a></div></div></div><div class=\"_1AtVbE col-12-12\" style=\"padding:0px 0px 0px 0px\"><div class=\"_3ChZRr _1rs5Pv\"><div class=\"_1ve3GO\"><a class=\"_2a3TMW\" href=\"/oppo-find-n2-flip-astral-black-256-gb/p/itm8cfed9af48231?pid=MOBGN2NDWGYJTN8R&amp;param=8613&amp;otracker=clp_bannerads_1_24.bannerAdCard.BANNERADS_A_mobile-phones-store_G68R50O63FGZ\" target=\"\"><div class=\"_1bEAQy\" style=\"width:100%;height:280px\"><img alt=\"A\" class=\"_2OHU_q\"/><img alt=\"A\" class=\"kJjFO0\" src=\"https://rukminim1.flixcart.com/fk-p-flap/844/140/image/23feb9b229ace3a8.jpg?q=50\"/></div></a></div></div></div><div class=\"_1AtVbE col-12-12\" style=\"padding:0px 0px 0px 0px\"><div class=\"_3ChZRr _1rs5Pv\"><div class=\"_1ve3GO\"><a class=\"_2a3TMW\" href=\"/mobiles/~cs-makujikwbo/pr?sid=tyy%2C4io&amp;collection-tab-name=vivo+v27+Pro&amp;param=5412&amp;otracker=clp_bannerads_1_26.bannerAdCard.BANNERADS_vivo%2Bv27%2BBase_mobile-phones-store_5DI65VHDUXTE\" target=\"\"><div class=\"_1bEAQy\" style=\"width:100%;height:280px\"><img alt=\"vivo v27 Base\" class=\"_2OHU_q\"/><img alt=\"vivo v27 Base\" class=\"kJjFO0\" src=\"https://rukminim1.flixcart.com/fk-p-flap/844/140/image/94434a57db16d0ed.jpg?q=50\"/></div></a></div></div></div><div class=\"_1AtVbE col-12-12\" style=\"padding:0px 0px 0px 0px\"><div class=\"_3ChZRr _1rs5Pv\"><div class=\"_1ve3GO\"><a class=\"_2a3TMW\" href=\"/tyy/4io/~cs-on6h8tmfhi/pr?sid=tyy%2C4io&amp;collection-tab-name=moto+g73+&amp;otracker=clp_bannerads_1_27.bannerAdCard.BANNERADS_A_mobile-phones-store_RWK5A7D2DX1J\" target=\"\"><div class=\"_1bEAQy\" style=\"width:100%;height:280px\"><img alt=\"A\" class=\"_2OHU_q\"/><img alt=\"A\" class=\"kJjFO0\" src=\"https://rukminim1.flixcart.com/fk-p-flap/844/140/image/3cebbd1d5a4c6647.jpg?q=50\"/></div></a></div></div></div><div class=\"_1AtVbE col-12-12\" style=\"padding:0px 0px 0px 0px\"><div class=\"_3ChZRr _1rs5Pv\"><div class=\"_1ve3GO\"><a class=\"_2a3TMW\" href=\"/infinix-smart-7-azure-blue-64-gb/p/itm7b72b66485a59?pid=MOBGMTW2WYG2A2FM&amp;param=5678&amp;otracker=clp_bannerads_1_30.bannerAdCard.BANNERADS_Infinix-Smart7-Sale%2Bis%2BO._mobile-phones-store_5J5XXC0Z7AG4\" target=\"\"><div class=\"_1bEAQy\" style=\"width:100%;height:280px\"><img alt=\"Infinix-Smart7-Sale is O.\" class=\"_2OHU_q\"/><img alt=\"Infinix-Smart7-Sale is O.\" class=\"kJjFO0\" src=\"https://rukminim1.flixcart.com/fk-p-flap/844/140/image/e22c2e4278a18c1f.jpg?q=50\"/></div></a></div></div></div><div class=\"_1AtVbE col-12-12\" style=\"padding:0px 0px 0px 0px\"><div class=\"_3ChZRr _1rs5Pv\"><div class=\"_1ve3GO\"><a class=\"_2a3TMW\" href=\"/tyy/4io/~cs-7xcwdigmm3/pr?sid=tyy%2C4io&amp;collection-tab-name=Samsung+S23+Series&amp;param=983843&amp;otracker=clp_bannerads_1_31.bannerAdCard.BANNERADS_S23-sale-gif_mobile-phones-store_SQZ7Q0OYBJ4F\" target=\"\"><div class=\"_1bEAQy\" style=\"width:100%;height:280px\"><img alt=\"S23-sale-gif\" class=\"_2OHU_q\"/><img alt=\"S23-sale-gif\" class=\"kJjFO0\" src=\"https://rukminim1.flixcart.com/fk-p-flap/844/140/image/a7592be43104d75e.jpg?q=50\"/></div></a></div></div></div><div class=\"_1AtVbE col-12-12\"><div class=\"_3E8aIl X3IECw row\"><div class=\"_88-NUv\">Reviews for Popular Mobiles</div><div class=\"_2nRPpA\"><div class=\"_1Ni40J\"><div class=\"_3hVUcF\"><div class=\"CXW8mj\" style=\"height:150px;width:150px\"><img alt=\"POCO C50 (Royal Blue, 32 GB)\" class=\"_396cs4\" loading=\"lazy\" src=\"https://rukminim1.flixcart.com/image/300/300/xif0q/mobile/t/a/x/-original-imaghmtch6qfmfxg.jpeg?q=90\"/></div></div><div class=\"_1kLt05\"><a href=\"/poco-c50-royal-blue-32-gb/p/itm29f5966074235?pid=MOBGK8WZUTGDEZFA&amp;marketplace=FLIPKART\" rel=\"noopener noreferrer\" target=\"_blank\"><div class=\"_1W9f5C\"><div>1. POCO C50 (Royal Blue, 32 GB...</div></div><div class=\"_3VDxyD\"><div class=\"_3LWZlK\">4.3<img class=\"_1wB99o\" src=\"data:image/svg+xml;base64,PHN2ZyB4bWxucz0iaHR0cDovL3d3dy53My5vcmcvMjAwMC9zdmciIHdpZHRoPSIxMyIgaGVpZ2h0PSIxMiI+PHBhdGggZmlsbD0iI0ZGRiIgZD0iTTYuNSA5LjQzOWwtMy42NzQgMi4yMy45NC00LjI2LTMuMjEtMi44ODMgNC4yNTQtLjQwNEw2LjUuMTEybDEuNjkgNC4wMSA0LjI1NC40MDQtMy4yMSAyLjg4Mi45NCA0LjI2eiIvPjwvc3ZnPg==\"/></div><span class=\"_34hpFu\"><span>12,848 Ratings</span><span><span class=\"_2oY1qB\">&amp;</span><span>564 Reviews</span></span></span></div><div class=\"_2wYYVP\"><div class=\"_25b18c\"><div class=\"_30jeq3 UMT9wN\">₹5,749</div><div class=\"_3Ay6Sb _2FuKQX\"><span>36% off</span></div></div></div></a><ul class=\"_1Sq2Fs\"><li class=\"_2OosNL\">2 GB RAM | 32 GB ROM | Expandable Upto 512 GB</li><li class=\"_2OosNL\">16.56 cm (6.52 inch) HD+ Display</li><li class=\"_2OosNL\">8MP Dual Camera | 5MP Front Camera</li></ul></div></div><div class=\"_2tzWk4\"><div class=\"_1A_Aux\">Most Helpful Review</div><div class=\"col\"><div class=\"col _2wzgFH _2cVXgz\"><div class=\"row\"><div class=\"_3LWZlK _1BLPMq\">5<img class=\"_1wB99o\" src=\"data:image/svg+xml;base64,PHN2ZyB4bWxucz0iaHR0cDovL3d3dy53My5vcmcvMjAwMC9zdmciIHdpZHRoPSIxMyIgaGVpZ2h0PSIxMiI+PHBhdGggZmlsbD0iI0ZGRiIgZD0iTTYuNSA5LjQzOWwtMy42NzQgMi4yMy45NC00LjI2LTMuMjEtMi44ODMgNC4yNTQtLjQwNEw2LjUuMTEybDEuNjkgNC4wMSA0LjI1NC40MDQtMy4yMSAyLjg4Mi45NCA0LjI2eiIvPjwvc3ZnPg==\"/></div><p class=\"_2-N8zT\">Classy product</p></div><div class=\"row\"><div class=\"t-ZTKy\"><div><div class=\"\">Initial impressions:- First up all at this price range it's really good value for money products 👌 <br/> <br/>I purchased it for my mom so she doesn't know much abo...</div><span class=\"_1BWGvX\"><span>Read full review</span></span></div></div></div><div class=\"row _3n8db9\"><div class=\"row\"><p class=\"_2sc7ZR _2V5EHH\">Sumit Solanki</p><svg class=\"_2a1p_T\" height=\"14\" viewbox=\"0 0 12 12\" width=\"14\" xmlns=\"http://www.w3.org/2000/svg\"><g><circle cx=\"6\" cy=\"6\" fill=\"#878787\" r=\"6\"></circle><path d=\"M3 6l2 2 4-4\" fill=\"#878787\" stroke=\"#FFF\" stroke-width=\"1.5\"></path></g></svg><p class=\"_2mcZGG\" id=\"review-e353e49e-9ef8-4b6b-8dbd-411593441282\"><span>Certified Buyer</span></p><p class=\"_2sc7ZR\">1 month ago</p></div></div></div></div></div><div class=\"_2tzWk4\"><div class=\"_1A_Aux\">Recent Review</div><div class=\"col\"><div class=\"col _2wzgFH _2cVXgz\"><div class=\"row\"><div class=\"_3LWZlK _1rdVr6 _1BLPMq\">1<img class=\"_1wB99o\" src=\"data:image/svg+xml;base64,PHN2ZyB4bWxucz0iaHR0cDovL3d3dy53My5vcmcvMjAwMC9zdmciIHdpZHRoPSIxMyIgaGVpZ2h0PSIxMiI+PHBhdGggZmlsbD0iI0ZGRiIgZD0iTTYuNSA5LjQzOWwtMy42NzQgMi4yMy45NC00LjI2LTMuMjEtMi44ODMgNC4yNTQtLjQwNEw2LjUuMTEybDEuNjkgNC4wMSA0LjI1NC40MDQtMy4yMSAyLjg4Mi45NCA0LjI2eiIvPjwvc3ZnPg==\"/></div><p class=\"_2-N8zT\">Not recommended at all</p></div><div class=\"row\"><div class=\"t-ZTKy\"><div><div class=\"\">I received defective device very low quality hanging issues</div><span class=\"_1H-bmy\"><span>Read full review</span></span></div></div></div><div class=\"row _3n8db9\"><div class=\"row\"><p class=\"_2sc7ZR _2V5EHH\"></p><svg class=\"_2a1p_T\" height=\"14\" viewbox=\"0 0 12 12\" width=\"14\" xmlns=\"http://www.w3.org/2000/svg\"><g><circle cx=\"6\" cy=\"6\" fill=\"#878787\" r=\"6\"></circle><path d=\"M3 6l2 2 4-4\" fill=\"#878787\" stroke=\"#FFF\" stroke-width=\"1.5\"></path></g></svg><p class=\"_2mcZGG\" id=\"review-5eb94d23-ba1d-4a28-8b69-166544df68d4\"><span>Certified Buyer</span></p><p class=\"_2sc7ZR\">1 day ago</p></div></div></div></div></div></div><div class=\"_2nRPpA\"><div class=\"_1Ni40J\"><div class=\"_3hVUcF\"><div class=\"CXW8mj\" style=\"height:150px;width:150px\"><img alt=\"POCO C50 (Royal Blue, 32 GB)\" class=\"_396cs4\" loading=\"lazy\" src=\"https://rukminim1.flixcart.com/image/300/300/xif0q/mobile/t/a/x/-original-imaghmtch6qfmfxg.jpeg?q=90\"/></div></div><div class=\"_1kLt05\"><a href=\"/poco-c50-royal-blue-32-gb/p/itm9c774a53205d1?pid=MOBGK8WZPS5BQRFA&amp;marketplace=FLIPKART\" rel=\"noopener noreferrer\" target=\"_blank\"><div class=\"_1W9f5C\"><div>2. POCO C50 (Royal Blue, 32 GB...</div></div><div class=\"_3VDxyD\"><div class=\"_3LWZlK\">4.1<img class=\"_1wB99o\" src=\"data:image/svg+xml;base64,PHN2ZyB4bWxucz0iaHR0cDovL3d3dy53My5vcmcvMjAwMC9zdmciIHdpZHRoPSIxMyIgaGVpZ2h0PSIxMiI+PHBhdGggZmlsbD0iI0ZGRiIgZD0iTTYuNSA5LjQzOWwtMy42NzQgMi4yMy45NC00LjI2LTMuMjEtMi44ODMgNC4yNTQtLjQwNEw2LjUuMTEybDEuNjkgNC4wMSA0LjI1NC40MDQtMy4yMSAyLjg4Mi45NCA0LjI2eiIvPjwvc3ZnPg==\"/></div><span class=\"_34hpFu\"><span>4,108 Ratings</span><span><span class=\"_2oY1qB\">&amp;</span><span>252 Reviews</span></span></span></div><div class=\"_2wYYVP\"><div class=\"_25b18c\"><div class=\"_30jeq3 UMT9wN\">₹6,549</div><div class=\"_3Ay6Sb _2FuKQX\"><span>34% off</span></div></div></div></a><ul class=\"_1Sq2Fs\"><li class=\"_2OosNL\">3 GB RAM | 32 GB ROM | Expandable Upto 512 GB</li><li class=\"_2OosNL\">16.56 cm (6.52 inch) HD+ Display</li><li class=\"_2OosNL\">8MP Dual Camera | 5MP Front Camera</li></ul></div></div><div class=\"_2tzWk4\"><div class=\"_1A_Aux\">Most Helpful Review</div><div class=\"col\"><div class=\"col _2wzgFH _2cVXgz\"><div class=\"row\"><div class=\"_3LWZlK _1BLPMq\">5<img class=\"_1wB99o\" src=\"data:image/svg+xml;base64,PHN2ZyB4bWxucz0iaHR0cDovL3d3dy53My5vcmcvMjAwMC9zdmciIHdpZHRoPSIxMyIgaGVpZ2h0PSIxMiI+PHBhdGggZmlsbD0iI0ZGRiIgZD0iTTYuNSA5LjQzOWwtMy42NzQgMi4yMy45NC00LjI2LTMuMjEtMi44ODMgNC4yNTQtLjQwNEw2LjUuMTEybDEuNjkgNC4wMSA0LjI1NC40MDQtMy4yMSAyLjg4Mi45NCA0LjI2eiIvPjwvc3ZnPg==\"/></div><p class=\"_2-N8zT\">Worth every penny</p></div><div class=\"row\"><div class=\"t-ZTKy\"><div><div class=\"\">Hello everyone ! I bought this smartphone for my mother because of her use ofcourse not everyone use full potential of smartphone. I choosed this smartphone ...</div><span class=\"_1BWGvX\"><span>Read full review</span></span></div></div></div><div class=\"row _3n8db9\"><div class=\"row\"><p class=\"_2sc7ZR _2V5EHH\">Narendra  Jalamkar</p><svg class=\"_2a1p_T\" height=\"14\" viewbox=\"0 0 12 12\" width=\"14\" xmlns=\"http://www.w3.org/2000/svg\"><g><circle cx=\"6\" cy=\"6\" fill=\"#878787\" r=\"6\"></circle><path d=\"M3 6l2 2 4-4\" fill=\"#878787\" stroke=\"#FFF\" stroke-width=\"1.5\"></path></g></svg><p class=\"_2mcZGG\" id=\"review-b9b87152-9d53-43b6-ba8f-fcd485c215b6\"><span>Certified Buyer</span></p><p class=\"_2sc7ZR\">20 days ago</p></div></div></div></div></div><div class=\"_2tzWk4\"><div class=\"_1A_Aux\">Recent Review</div><div class=\"col\"><div class=\"col _2wzgFH _2cVXgz\"><div class=\"row\"><div class=\"_3LWZlK _1rdVr6 _1BLPMq\">1<img class=\"_1wB99o\" src=\"data:image/svg+xml;base64,PHN2ZyB4bWxucz0iaHR0cDovL3d3dy53My5vcmcvMjAwMC9zdmciIHdpZHRoPSIxMyIgaGVpZ2h0PSIxMiI+PHBhdGggZmlsbD0iI0ZGRiIgZD0iTTYuNSA5LjQzOWwtMy42NzQgMi4yMy45NC00LjI2LTMuMjEtMi44ODMgNC4yNTQtLjQwNEw2LjUuMTEybDEuNjkgNC4wMSA0LjI1NC40MDQtMy4yMSAyLjg4Mi45NCA0LjI2eiIvPjwvc3ZnPg==\"/></div><p class=\"_2-N8zT\">Waste of money!</p></div><div class=\"row\"><div class=\"t-ZTKy\"><div><div class=\"\">Worst mobile pls don't buy<br/>YouTube is not working<br/>The camera is not good <br/>I have never seen this type</div><span class=\"_1H-bmy\"><span>Read full review</span></span></div></div></div><div class=\"row _3n8db9\"><div class=\"row\"><p class=\"_2sc7ZR _2V5EHH\"></p><svg class=\"_2a1p_T\" height=\"14\" viewbox=\"0 0 12 12\" width=\"14\" xmlns=\"http://www.w3.org/2000/svg\"><g><circle cx=\"6\" cy=\"6\" fill=\"#878787\" r=\"6\"></circle><path d=\"M3 6l2 2 4-4\" fill=\"#878787\" stroke=\"#FFF\" stroke-width=\"1.5\"></path></g></svg><p class=\"_2mcZGG\" id=\"review-43e60611-1592-4b8d-84eb-1a010b50dddc\"><span>Certified Buyer</span></p><p class=\"_2sc7ZR\">2 days ago</p></div></div></div></div></div></div><div class=\"_2nRPpA\"><div class=\"_1Ni40J\"><div class=\"_3hVUcF\"><div class=\"CXW8mj\" style=\"height:150px;width:150px\"><img alt=\"Nokia 105 SS\" class=\"_396cs4\" loading=\"lazy\" src=\"https://rukminim1.flixcart.com/image/300/300/l0r1j0w0/mobile/b/h/f/-original-imagch28cnf3u3we.jpeg?q=90\"/></div></div><div class=\"_1kLt05\"><a href=\"/nokia-105-ss/p/itm020c5e527f4d3?pid=MOBGC96FRD7DB2R7&amp;marketplace=FLIPKART\" rel=\"noopener noreferrer\" target=\"_blank\"><div class=\"_1W9f5C\"><div>3. Nokia 105 SS</div></div><div class=\"_3VDxyD\"><div class=\"_3LWZlK\">4.2<img class=\"_1wB99o\" src=\"data:image/svg+xml;base64,PHN2ZyB4bWxucz0iaHR0cDovL3d3dy53My5vcmcvMjAwMC9zdmciIHdpZHRoPSIxMyIgaGVpZ2h0PSIxMiI+PHBhdGggZmlsbD0iI0ZGRiIgZD0iTTYuNSA5LjQzOWwtMy42NzQgMi4yMy45NC00LjI2LTMuMjEtMi44ODMgNC4yNTQtLjQwNEw2LjUuMTEybDEuNjkgNC4wMSA0LjI1NC40MDQtMy4yMSAyLjg4Mi45NCA0LjI2eiIvPjwvc3ZnPg==\"/></div><span class=\"_34hpFu\"><span>35,341 Ratings</span><span><span class=\"_2oY1qB\">&amp;</span><span>2,454 Reviews</span></span></span></div><div class=\"_2wYYVP\"><div class=\"_25b18c\"><div class=\"_30jeq3 UMT9wN\">₹1,299</div><div class=\"_3Ay6Sb _2FuKQX\"><span>18% off</span></div></div></div></a><ul class=\"_1Sq2Fs\"><li class=\"_2OosNL\">32 MB RAM | 32 MB ROM</li><li class=\"_2OosNL\">4.5 cm (1.77 inch) QVGA Display</li><li class=\"_2OosNL\">0MP Front Camera</li></ul></div></div><div class=\"_2tzWk4\"><div class=\"_1A_Aux\">Most Helpful Review</div><div class=\"col\"><div class=\"col _2wzgFH _2cVXgz\"><div class=\"row\"><div class=\"_3LWZlK _1BLPMq\">5<img class=\"_1wB99o\" src=\"data:image/svg+xml;base64,PHN2ZyB4bWxucz0iaHR0cDovL3d3dy53My5vcmcvMjAwMC9zdmciIHdpZHRoPSIxMyIgaGVpZ2h0PSIxMiI+PHBhdGggZmlsbD0iI0ZGRiIgZD0iTTYuNSA5LjQzOWwtMy42NzQgMi4yMy45NC00LjI2LTMuMjEtMi44ODMgNC4yNTQtLjQwNEw2LjUuMTEybDEuNjkgNC4wMSA0LjI1NC40MDQtMy4yMSAyLjg4Mi45NCA0LjI2eiIvPjwvc3ZnPg==\"/></div><p class=\"_2-N8zT\">Must buy!</p></div><div class=\"row\"><div class=\"t-ZTKy\"><div><div class=\"\">Mind blowing🤯 very smart &amp; work so nice 👍value for money my grandmother so happy</div><span class=\"_1H-bmy\"><span>Read full review</span></span></div></div></div><div class=\"row _3n8db9\"><div class=\"row\"><p class=\"_2sc7ZR _2V5EHH\">Aman Singh</p><svg class=\"_2a1p_T\" height=\"14\" viewbox=\"0 0 12 12\" width=\"14\" xmlns=\"http://www.w3.org/2000/svg\"><g><circle cx=\"6\" cy=\"6\" fill=\"#878787\" r=\"6\"></circle><path d=\"M3 6l2 2 4-4\" fill=\"#878787\" stroke=\"#FFF\" stroke-width=\"1.5\"></path></g></svg><p class=\"_2mcZGG\" id=\"review-d2e827d7-4f81-4869-b65a-0e2ffdf99b61\"><span>Certified Buyer</span></p><p class=\"_2sc7ZR\">10 months ago</p></div></div></div></div></div><div class=\"_2tzWk4\"><div class=\"_1A_Aux\">Recent Review</div><div class=\"col\"><div class=\"col _2wzgFH _2cVXgz\"><div class=\"row\"><div class=\"_3LWZlK _1BLPMq\">5<img class=\"_1wB99o\" src=\"data:image/svg+xml;base64,PHN2ZyB4bWxucz0iaHR0cDovL3d3dy53My5vcmcvMjAwMC9zdmciIHdpZHRoPSIxMyIgaGVpZ2h0PSIxMiI+PHBhdGggZmlsbD0iI0ZGRiIgZD0iTTYuNSA5LjQzOWwtMy42NzQgMi4yMy45NC00LjI2LTMuMjEtMi44ODMgNC4yNTQtLjQwNEw2LjUuMTEybDEuNjkgNC4wMSA0LjI1NC40MDQtMy4yMSAyLjg4Mi45NCA0LjI2eiIvPjwvc3ZnPg==\"/></div><p class=\"_2-N8zT\">Perfect product!</p></div><div class=\"row\"><div class=\"t-ZTKy\"><div><div class=\"\">Fantastic,,,, awesome....</div><span class=\"_1H-bmy\"><span>Read full review</span></span></div></div></div><div class=\"row _3n8db9\"><div class=\"row\"><p class=\"_2sc7ZR _2V5EHH\"></p><svg class=\"_2a1p_T\" height=\"14\" viewbox=\"0 0 12 12\" width=\"14\" xmlns=\"http://www.w3.org/2000/svg\"><g><circle cx=\"6\" cy=\"6\" fill=\"#878787\" r=\"6\"></circle><path d=\"M3 6l2 2 4-4\" fill=\"#878787\" stroke=\"#FFF\" stroke-width=\"1.5\"></path></g></svg><p class=\"_2mcZGG\" id=\"review-246a2cb8-3bcd-458b-84c8-e16a90cdb5d7\"><span>Certified Buyer</span></p><p class=\"_2sc7ZR\">3 days ago</p></div></div></div></div></div></div><div class=\"_2nRPpA\"><div class=\"_1Ni40J\"><div class=\"_3hVUcF\"><div class=\"CXW8mj\" style=\"height:150px;width:150px\"><img alt=\"realme C33 (Sandy Gold, 32 GB)\" class=\"_396cs4\" loading=\"lazy\" src=\"https://rukminim1.flixcart.com/image/300/300/xif0q/mobile/w/o/s/-original-imaghuf9mryjhf3m.jpeg?q=90\"/></div></div><div class=\"_1kLt05\"><a href=\"/realme-c33-sandy-gold-32-gb/p/itma112335dbe78a?pid=MOBGHBJGF9QZYSZX&amp;marketplace=FLIPKART\" rel=\"noopener noreferrer\" target=\"_blank\"><div class=\"_1W9f5C\"><div>4. realme C33 (Sandy Gold, 32 ...</div></div><div class=\"_3VDxyD\"><div class=\"_3LWZlK\">4.4<img class=\"_1wB99o\" src=\"data:image/svg+xml;base64,PHN2ZyB4bWxucz0iaHR0cDovL3d3dy53My5vcmcvMjAwMC9zdmciIHdpZHRoPSIxMyIgaGVpZ2h0PSIxMiI+PHBhdGggZmlsbD0iI0ZGRiIgZD0iTTYuNSA5LjQzOWwtMy42NzQgMi4yMy45NC00LjI2LTMuMjEtMi44ODMgNC4yNTQtLjQwNEw2LjUuMTEybDEuNjkgNC4wMSA0LjI1NC40MDQtMy4yMSAyLjg4Mi45NCA0LjI2eiIvPjwvc3ZnPg==\"/></div><span class=\"_34hpFu\"><span>21,644 Ratings</span><span><span class=\"_2oY1qB\">&amp;</span><span>903 Reviews</span></span></span></div><div class=\"_2wYYVP\"><div class=\"_25b18c\"><div class=\"_30jeq3 UMT9wN\">₹8,999</div><div class=\"_3Ay6Sb _2FuKQX\"><span>25% off</span></div></div></div></a><ul class=\"_1Sq2Fs\"><li class=\"_2OosNL\">3 GB RAM | 32 GB ROM | Expandable Upto 1 TB</li><li class=\"_2OosNL\">16.51 cm (6.5 inch) HD+ Display</li><li class=\"_2OosNL\">50MP + 0.3MP | 5MP Front Camera</li></ul></div></div><div class=\"_2tzWk4\"><div class=\"_1A_Aux\">Most Helpful Review</div><div class=\"col\"><div class=\"col _2wzgFH _2cVXgz\"><div class=\"row\"><div class=\"_3LWZlK _1BLPMq\">4<img class=\"_1wB99o\" src=\"data:image/svg+xml;base64,PHN2ZyB4bWxucz0iaHR0cDovL3d3dy53My5vcmcvMjAwMC9zdmciIHdpZHRoPSIxMyIgaGVpZ2h0PSIxMiI+PHBhdGggZmlsbD0iI0ZGRiIgZD0iTTYuNSA5LjQzOWwtMy42NzQgMi4yMy45NC00LjI2LTMuMjEtMi44ODMgNC4yNTQtLjQwNEw2LjUuMTEybDEuNjkgNC4wMSA0LjI1NC40MDQtMy4yMSAyLjg4Mi45NCA0LjI2eiIvPjwvc3ZnPg==\"/></div><p class=\"_2-N8zT\">Worth the money</p></div><div class=\"row\"><div class=\"t-ZTKy\"><div><div class=\"\">This phone design was amazing, performance and  battery was good . This was not a camera's preferred mobile but the back camera was quite good, if you look f...</div><span class=\"_1BWGvX\"><span>Read full review</span></span></div></div></div><div class=\"row _3n8db9\"><div class=\"row\"><p class=\"_2sc7ZR _2V5EHH\">Sneha Dey</p><svg class=\"_2a1p_T\" height=\"14\" viewbox=\"0 0 12 12\" width=\"14\" xmlns=\"http://www.w3.org/2000/svg\"><g><circle cx=\"6\" cy=\"6\" fill=\"#878787\" r=\"6\"></circle><path d=\"M3 6l2 2 4-4\" fill=\"#878787\" stroke=\"#FFF\" stroke-width=\"1.5\"></path></g></svg><p class=\"_2mcZGG\" id=\"review-0dec7b55-7483-4b27-8871-f8bdc80cfb01\"><span>Certified Buyer</span></p><p class=\"_2sc7ZR\">2 months ago</p></div></div></div></div></div><div class=\"_2tzWk4\"><div class=\"_1A_Aux\">Recent Review</div><div class=\"col\"><div class=\"col _2wzgFH _2cVXgz\"><div class=\"row\"><div class=\"_3LWZlK _1BLPMq\">5<img class=\"_1wB99o\" src=\"data:image/svg+xml;base64,PHN2ZyB4bWxucz0iaHR0cDovL3d3dy53My5vcmcvMjAwMC9zdmciIHdpZHRoPSIxMyIgaGVpZ2h0PSIxMiI+PHBhdGggZmlsbD0iI0ZGRiIgZD0iTTYuNSA5LjQzOWwtMy42NzQgMi4yMy45NC00LjI2LTMuMjEtMi44ODMgNC4yNTQtLjQwNEw2LjUuMTEybDEuNjkgNC4wMSA0LjI1NC40MDQtMy4yMSAyLjg4Mi45NCA0LjI2eiIvPjwvc3ZnPg==\"/></div><p class=\"_2-N8zT\">Just wow!</p></div><div class=\"row\"><div class=\"t-ZTKy\"><div><div class=\"\">Awesome mobile  value for money</div><span class=\"_1H-bmy\"><span>Read full review</span></span></div></div></div><div class=\"row _3n8db9\"><div class=\"row\"><p class=\"_2sc7ZR _2V5EHH\"></p><svg class=\"_2a1p_T\" height=\"14\" viewbox=\"0 0 12 12\" width=\"14\" xmlns=\"http://www.w3.org/2000/svg\"><g><circle cx=\"6\" cy=\"6\" fill=\"#878787\" r=\"6\"></circle><path d=\"M3 6l2 2 4-4\" fill=\"#878787\" stroke=\"#FFF\" stroke-width=\"1.5\"></path></g></svg><p class=\"_2mcZGG\" id=\"review-257375dd-4bf5-42ba-9dac-106255c5128e\"><span>Certified Buyer</span></p><p class=\"_2sc7ZR\">2 days ago</p></div></div></div></div></div></div><div class=\"_2nRPpA\"><div class=\"_1Ni40J\"><div class=\"_3hVUcF\"><div class=\"CXW8mj\" style=\"height:150px;width:150px\"><img alt=\"MOTOROLA G32 (Mineral Gray, 128 GB)\" class=\"_396cs4\" loading=\"lazy\" src=\"https://rukminim1.flixcart.com/image/300/300/xif0q/mobile/m/j/j/-original-imagnvvwvzyhfvx9.jpeg?q=90\"/></div></div><div class=\"_1kLt05\"><a href=\"/motorola-g32-mineral-gray-128-gb/p/itm6061450cb40ac?pid=MOBGM2EHJUTMXMFV&amp;marketplace=FLIPKART\" rel=\"noopener noreferrer\" target=\"_blank\"><div class=\"_1W9f5C\"><div>5. MOTOROLA G32 (Mineral Gray,...</div></div><div class=\"_3VDxyD\"><div class=\"_3LWZlK\">4.1<img class=\"_1wB99o\" src=\"data:image/svg+xml;base64,PHN2ZyB4bWxucz0iaHR0cDovL3d3dy53My5vcmcvMjAwMC9zdmciIHdpZHRoPSIxMyIgaGVpZ2h0PSIxMiI+PHBhdGggZmlsbD0iI0ZGRiIgZD0iTTYuNSA5LjQzOWwtMy42NzQgMi4yMy45NC00LjI2LTMuMjEtMi44ODMgNC4yNTQtLjQwNEw2LjUuMTEybDEuNjkgNC4wMSA0LjI1NC40MDQtMy4yMSAyLjg4Mi45NCA0LjI2eiIvPjwvc3ZnPg==\"/></div><span class=\"_34hpFu\"><span>1,751 Ratings</span><span><span class=\"_2oY1qB\">&amp;</span><span>168 Reviews</span></span></span></div><div class=\"_2wYYVP\"><div class=\"_25b18c\"><div class=\"_30jeq3 UMT9wN\">₹11,999</div><div class=\"_3Ay6Sb _2FuKQX\"><span>36% off</span></div></div></div></a><ul class=\"_1Sq2Fs\"><li class=\"_2OosNL\">8 GB RAM | 128 GB ROM</li><li class=\"_2OosNL\">16.64 cm (6.55 inch) Full HD+ Display</li><li class=\"_2OosNL\">50MP + 8MP + 2MP | 16MP Front Camera</li></ul></div></div><div class=\"_2tzWk4\"><div class=\"_1A_Aux\">Most Helpful Review</div><div class=\"col\"><div class=\"col _2wzgFH _2cVXgz\"><div class=\"row\"><div class=\"_3LWZlK _1BLPMq\">4<img class=\"_1wB99o\" src=\"data:image/svg+xml;base64,PHN2ZyB4bWxucz0iaHR0cDovL3d3dy53My5vcmcvMjAwMC9zdmciIHdpZHRoPSIxMyIgaGVpZ2h0PSIxMiI+PHBhdGggZmlsbD0iI0ZGRiIgZD0iTTYuNSA5LjQzOWwtMy42NzQgMi4yMy45NC00LjI2LTMuMjEtMi44ODMgNC4yNTQtLjQwNEw2LjUuMTEybDEuNjkgNC4wMSA0LjI1NC40MDQtMy4yMSAyLjg4Mi45NCA0LjI2eiIvPjwvc3ZnPg==\"/></div><p class=\"_2-N8zT\">Pretty good</p></div><div class=\"row\"><div class=\"t-ZTKy\"><div><div class=\"\">Battery service is good and charging time 45 to 51 minutes .  Nice phone with good camara with good price range    . ❤️❤️❤️</div><span class=\"_1H-bmy\"><span>Read full review</span></span></div></div></div><div class=\"row _3n8db9\"><div class=\"row\"><p class=\"_2sc7ZR _2V5EHH\">Sudipta Haldar</p><svg class=\"_2a1p_T\" height=\"14\" viewbox=\"0 0 12 12\" width=\"14\" xmlns=\"http://www.w3.org/2000/svg\"><g><circle cx=\"6\" cy=\"6\" fill=\"#878787\" r=\"6\"></circle><path d=\"M3 6l2 2 4-4\" fill=\"#878787\" stroke=\"#FFF\" stroke-width=\"1.5\"></path></g></svg><p class=\"_2mcZGG\" id=\"review-401d55f0-66d4-4300-b35e-8f8fcd16a014\"><span>Certified Buyer</span></p><p class=\"_2sc7ZR\">12 days ago</p></div></div></div></div></div><div class=\"_2tzWk4\"><div class=\"_1A_Aux\">Recent Review</div><div class=\"col\"><div class=\"col _2wzgFH _2cVXgz\"><div class=\"row\"><div class=\"_3LWZlK _1rdVr6 _1BLPMq\">1<img class=\"_1wB99o\" src=\"data:image/svg+xml;base64,PHN2ZyB4bWxucz0iaHR0cDovL3d3dy53My5vcmcvMjAwMC9zdmciIHdpZHRoPSIxMyIgaGVpZ2h0PSIxMiI+PHBhdGggZmlsbD0iI0ZGRiIgZD0iTTYuNSA5LjQzOWwtMy42NzQgMi4yMy45NC00LjI2LTMuMjEtMi44ODMgNC4yNTQtLjQwNEw2LjUuMTEybDEuNjkgNC4wMSA0LjI1NC40MDQtMy4yMSAyLjg4Mi45NCA0LjI2eiIvPjwvc3ZnPg==\"/></div><p class=\"_2-N8zT\">Terrible product</p></div><div class=\"row\"><div class=\"t-ZTKy\"><div><div class=\"\">Pone is over heating in just 1hour video playing</div><span class=\"_1H-bmy\"><span>Read full review</span></span></div></div></div><div class=\"row _3n8db9\"><div class=\"row\"><p class=\"_2sc7ZR _2V5EHH\"></p><svg class=\"_2a1p_T\" height=\"14\" viewbox=\"0 0 12 12\" width=\"14\" xmlns=\"http://www.w3.org/2000/svg\"><g><circle cx=\"6\" cy=\"6\" fill=\"#878787\" r=\"6\"></circle><path d=\"M3 6l2 2 4-4\" fill=\"#878787\" stroke=\"#FFF\" stroke-width=\"1.5\"></path></g></svg><p class=\"_2mcZGG\" id=\"review-35594363-0362-41e3-b9c2-886db2ac788b\"><span>Certified Buyer</span></p><p class=\"_2sc7ZR\">1 day ago</p></div></div></div></div></div></div></div></div><div class=\"_1AtVbE col-12-12\"></div></div></div><div class=\"_39SDPR\"></div></div><footer class=\"_3voSl0\"><div class=\"_3rc_xQ\"><div class=\"row\"><div class=\"col gu12 _8Qljeg\"><div class=\"_1Vtd9D\"><section class=\"_1Dc42_\"><h2 class=\"VgV9vQ\">Mobiles Price List</h2><div class=\"_1pbqS9 ZtLs68\"><div class=\"_2J4zcy\">Mobiles</div><div class=\"_1liiiu\">Price</div></div><ol><li class=\"_1pbqS9\"><div class=\"_2J4zcy\"><a href=\"/nokia-105-ss/p/itm020c5e527f4d3?pid=MOBGC96FRD7DB2R7&amp;lid=LSTMOBGC96FRD7DB2R7JBURME&amp;marketplace=FLIPKART\">Nokia 105 SS</a></div><div class=\"_1liiiu\">Rs. 1299</div></li><li class=\"_1pbqS9\"><div class=\"_2J4zcy\"><a href=\"/poco-c50-country-green-32-gb/p/itma1fd4c176db79?pid=MOBGK8WZAFFKHXRC&amp;lid=LSTMOBGK8WZAFFKHXRCZKOFDZ&amp;marketplace=FLIPKART\">POCO C50 (Country Green, 32 GB)</a></div><div class=\"_1liiiu\">Rs. 6549</div></li><li class=\"_1pbqS9\"><div class=\"_2J4zcy\"><a href=\"/realme-c33-sandy-gold-32-gb/p/itma112335dbe78a?pid=MOBGHBJGF9QZYSZX&amp;lid=LSTMOBGHBJGF9QZYSZXROLVZH&amp;marketplace=FLIPKART\">realme C33 (Sandy Gold, 32 GB)</a></div><div class=\"_1liiiu\">Rs. 8999</div></li><li class=\"_1pbqS9\"><div class=\"_2J4zcy\"><a href=\"/infinix-smart-7-emerald-green-64-gb/p/itm7b72b66485a59?pid=MOBGMTW2HFCMQY35&amp;lid=LSTMOBGMTW2HFCMQY35R7FJQZ&amp;marketplace=FLIPKART\">Infinix SMART 7 (Emerald Green, 64 GB)</a></div><div class=\"_1liiiu\">Rs. 7499</div></li><li class=\"_1pbqS9\"><div class=\"_2J4zcy\"><a href=\"/realme-c33-aqua-blue-32-gb/p/itma112335dbe78a?pid=MOBGHBJGFKM7MNQH&amp;lid=LSTMOBGHBJGFKM7MNQHMLW6ZM&amp;marketplace=FLIPKART\">realme C33 (Aqua Blue, 32 GB)</a></div><div class=\"_1liiiu\">Rs. 8999</div></li><li class=\"_1pbqS9\"><div class=\"_2J4zcy\"><a href=\"/poco-c50-country-green-32-gb/p/itmceaa9370920fd?pid=MOBGK8WZYEJ3G5AA&amp;lid=LSTMOBGK8WZYEJ3G5AAMF47BF&amp;marketplace=FLIPKART\">POCO C50 (Country Green, 32 GB)</a></div><div class=\"_1liiiu\">Rs. 5749</div></li><li class=\"_1pbqS9\"><div class=\"_2J4zcy\"><a href=\"/realme-c33-sandy-gold-64-gb/p/itma112335dbe78a?pid=MOBGHBJG8NWDGK6T&amp;lid=LSTMOBGHBJG8NWDGK6TYTLTOF&amp;marketplace=FLIPKART\">realme C33 (Sandy Gold, 64 GB)</a></div><div class=\"_1liiiu\">Rs. 9999</div></li><li class=\"_1pbqS9\"><div class=\"_2J4zcy\"><a href=\"/poco-c50-royal-blue-32-gb/p/itm9c774a53205d1?pid=MOBGK8WZPS5BQRFA&amp;lid=LSTMOBGK8WZPS5BQRFAEQXUQ9&amp;marketplace=FLIPKART\">POCO C50 (Royal Blue, 32 GB)</a></div><div class=\"_1liiiu\">Rs. 6549</div></li><li class=\"_1pbqS9\"><div class=\"_2J4zcy\"><a href=\"/motorola-e13-aurora-green-64-gb/p/itm3042ad3770a18?pid=MOBGKHNBA55HDSZR&amp;lid=LSTMOBGKHNBA55HDSZRHOAFME&amp;marketplace=FLIPKART\">MOTOROLA e13 (Aurora Green, 64 GB)</a></div><div class=\"_1liiiu\">Rs. 7799</div></li><li class=\"_1pbqS9\"><div class=\"_2J4zcy\"><a href=\"/motorola-g32-mineral-gray-128-gb/p/itm6061450cb40ac?pid=MOBGM2EHJUTMXMFV&amp;lid=LSTMOBGM2EHJUTMXMFVL5MPKC&amp;marketplace=FLIPKART\">MOTOROLA G32 (Mineral Gray, 128 GB)</a></div><div class=\"_1liiiu\">Rs. 11999</div></li></ol><div class=\"XNAA65\">This data was last updated on 2023/04/08</div></section><div>\n",
       "<h2>Mobile Phones- Buy mobile phones online at best prices in India</h2>\n",
       "<div></div>\n",
       "<div>Mobile phone, also called a cell phone owing to it using a cellular network architecture, have seen a tremendous growth in terms of technology and size over the years. On Flipkart, we have a diverse collection of iOS and Android mobiles ranging from basic mobiles, low-range and mid-range phones to very high-end smartphones that\n",
       "<h2></h2>\n",
       "<a href=\"/realme-8-pro-infinite-black-128-gb/p/itmaa9c73f5a987c\">Realme 8 Pro</a> | <a href=\"/realme-8-cyber-black-128-gb/p/itm63bda3bf5b1db\">Realme 8</a> | <a href=\"/realme-8-5g-supersonic-black-64-gb/p/itm8a548578d136e\">Realme 8 5G</a> | <a href=\"/poco-x3-cobalt-blue-64-gb/p/itme71cba415d626\">POCO X3</a> | <a href=\"/poco-x3-pro-steel-blue-128-gb/p/itm92bc566db15d8\">POCO X3 Pro</a> | <a href=\"/apple-iphone-11-white-64-gb/p/itm2644c3764fc54\">iPhone 11</a> | <a href=\"/realme-7-mist-white-128-gb/p/itme55d08631f19b\">Realme 7</a> | <a href=\"/infinix-hot-10-play-7-purple-32-gb/p/itm1f660c8716944\">Infinix Hot 10</a> | <a href=\"/poco-m3-cool-blue-64-gb/p/itmc8ec867cb0472\">POCO M3</a> | <a href=\"/poco-x3-pro-steel-blue-128-gb/p/itm92bc566db15d8\">POCO X3 Pro</a> |<a href=\"/redmi-note-10-aqua-green-128-gb/p/itm23973bd36fd21\"> Redmi Note 10</a> | <a href=\"/vivo-v20-sunset-melody-128-gb/p/itm3c6e689e97959\">Vivo V20</a> | <a href=\"/redmi-9-power-mighty-black-64-gb/p/itm481ab234a6553\">Redmi 9 Power</a> <a href=\"/mobile-accessories/cases-and-covers/pr?sid=tyy%2C4mr%2Cq2u\">Phone cover</a>\n",
       "<h2>Oppo Find N2 Flip</h2>\n",
       "<p>Get the Oppo Find N2 Flip mobile phone to bring home a whole range of exciting features. Fitted with a Flexion Hinge the Oppo Find N2 folds in half to let you view calls, notifications, reminders, and more on a 8.28 cm (3.26) screen. When not using the cover screen, this phone uses its 17.27 cm (6.8) Full HD display for visuals. Made using high-grade steel and a polymer, the hinge can be folded around 400,000 times without wearing out. The phone is powered by a 4300 mAh battery that offers backup for up to 20 hours of video playback, 6 hours of video calling, and around 16 hours of internet browsing. This powerful battery can be charged to up to 50% in just 23 minutes thanks to the 44 W SUPERVOOC Flash Charge. All of these features are tied together by the MediaTek Dimensity 9000+ processor that is more than able to handle multiple operations simultaneously. The phone runs on ColorOS that compliments the aesthetic design of the phone and makes the UI clean and intuitive. Get your hands on the Oppo Find N2 Flip online and have it safely delivered to your door.<br/>\n",
       " </p>\n",
       "<h2><br/>\n",
       "Oppo Reno 8T 5G</h2>\n",
       "</div>\n",
       "<p>Get your hands on the Oppo Reno 8T 5G mobile phone and enter a world of powerful processing, smooth multitasking, and immersive visuals. It features a timeless design and has a thickness of just about 7.7 mm—helping it fit easily into your hands. The 17.01 cm (6.7) Curved AMOLED display brings the world to your hands with its 120 Hz refresh rate and 93% screen-to-body ratio. The phone also comes with 8 GB of RAM which can be further supplemented by reallocating up to 8 GB of storage into RAM for smooth processing and easy multitasking. It also features a 108 MP portrait camera to let you capture your memories in stunning clarity. It also comes with a 32 MP selfie camera that lets you click selfies and make video calls with ease. You can check out the Oppo Reno 8T prices online to plan your purchase. The Oppo Reno 8T prices in India could change depending on the offers and discounts applicable. So sit back, check out the offers available, and get your Oppo Reno 8T 5G mobile phone delivered straight to your home.     <br/>\n",
       "<br/>\n",
       " </p>\n",
       "<h2>Poco X5 Pro 5G </h2>\n",
       "<p>Control your world from the palm of your hand with the help of the Poco X5 Pro 5G mobile phone. This mobile phone features a Snapdragon 778G processor that can handle multiple operational threads easily. The phone features a 120 Hz adaptive refresh rate to give you smooth visuals especially when you play games or watch movies. The phone also features a true 10-bit display to allow for a wide range of colours. It also comes with Dolby Vision support for an improved visual quality. This phone also comes with a 108 MP primary camera to enable you to click pictures and record videos in stunning clarity. You can also record 4K videos in 30 FPS quality to capture your favourite moments to look back on fondly. You can check out the Poco X5 Pro 5G prices online—check for various deals and discounts too. So, what are you waiting for? Buy Poco X5 Pro 5G phones online and tap into a world of wonder discovery right out of the palm of your hand. Buy it online and get it delivered straight to your home.    <br/>\n",
       " </p>\n",
       "<h2><br/>\n",
       "Samsung Galaxy S23 Ultra </h2>\n",
       "<p>The Samsung Galaxy S23 Ultra is another feather in Samsung's illustrious cap of high-performance smartphones. The phone is loaded with various features to offer its users a highly enjoyable and memorable experience. The S23 Ultra is powered by a Snapdragon 8 Gen 2 mobile processor to ensure optimized and seamless performance when undertaking even the most challenging processes. It is programmed to be able to handle multiple operational threads without causing the battery to drain quickly. This phone comes with a Dynamic AMOLED 2X screen with a 120 Hz refresh rate to ensure that you see all the details clearly irrespective of whether you have the brightness at full or dimmed. The phone uses One UI which lets you customize every detail of the phone—be it the lockscreen, themes, or widgets with ease. Additionally, the phone is powered by a 5000 mAh battery to enable you to watch movies, play games, and do much more all through the day. To avoid making a rushed decision, you can check and compare the Samsung Galaxy S23 Ultra’s prices and reviews online before ordering.  </p>\n",
       "<h2><br/>\n",
       "<br/>\n",
       "iPhone 13</h2>\n",
       "<p>The 15.4 cm (6.1) display of the <a href=\"/apple-iphone-13-pink-128-gb/p/itm6e30c6ee045d2\">iPhone 13</a> provides a magnificent view of anything you watch on your smartphone. The all-screen OLED display of the phone features rounded corners within a standard rectangular screen. This powerful smartphone features an excellent battery life that can provide you with up to 19 hours of video playback and 75 hours of audio playback. This impressive feature can ensure you keep yourself entertained even when you are on the go. The inbuilt lithium-ion battery supports fast charging and wireless charging so that you stay on top of your tasks at all times. The iOS 15 operating system present in this smartphone packs in powerful and secure features to make your phone personal with enhanced privacy protection. The  iPhone 13 comes with an array of built-in apps to help you with your day-to-day tasks. You can also install free apps from the Apple Store to personalise your phone as per your needs. The phone can support dual SIMs, including a nano-SIM and an eSIM. The built-in microphones and stereo speakers enable you to carry out your calls, video conferences, and more with enhanced voice clarity. Explore all the different features offered by this phone and shop for iPhone 13 online. </p>\n",
       "<h2><br/>\n",
       "<br/>\n",
       "iPhone 13 mini</h2>\n",
       "<div>The iPhone 13 mini has an array of innovative functionalities and features to revolutionise your smartphone experience. The durable design and efficient performance make it an excellent device you can opt for your day-to-day requirements. The phone is equipped with a lightning-fast A15 Bionic chip that provides unparalleled performance with high efficiency. The advanced dual-camera system on this smartphone has a 12 MP wide camera sensor and a 12 MP ultra-wide camera sensor to help you capture shots with greater detail. The portrait mode offered by the camera provides depth control and advanced bokeh along with features such as auto stabilisation. You can use the <a href=\"/apple-iphone-13-mini-starlight-128-gb/p/itmcb65606f21fd3\">iPhone 13 mini</a> to FaceTime with your friends and family over Wi-Fi or cellular network. This Apple mobile phone has a 13.7 cm (5.4) Super Retina XDR display with features like true tone and wide colour (P3) to offer an enhanced viewing experience. So, whether you want to carry out your professional tasks or enjoy a movie, this smartphone is the one to go for. The flat edge design of the phone makes it tough, while the ceramic shield offers excellent durability to its screen. You can buy iPhone 13 mini online for convenient home delivery. <br/>\n",
       " \n",
       "<h2><br/>\n",
       "POCO M3</h2>\n",
       "The <a href=\"/poco-m3-cool-blue-64-gb/p/itmc8ec867cb0472\">POCO M3</a> can be a suitable device for someone who is in need of a smartphone that serves looks and is also packed with innovative features. The stylish phone features a 16.59 cm (6.53) Full HD+ screen mounted over a textured back panel. With the 48 MP primary camera and the 8 MP selfie camera, you can capture your moments with great detail and precision. The phone offers a smooth and swift performance with its Qualcomm Snapdragon 662 processor. <br/>\n",
       " </div>\n",
       "<h2><br/>\n",
       "POCO M3 Pro 5G</h2>\n",
       "<div>Enjoy extended hours of media with the <a href=\"/poco-m3-pro-5g-power-black-64-gb/p/itmabfea23908d0d\">POCO M3 Pro 5G</a> mobile phone that features an efficient 5000 mAH Lithium-ion polymer battery and a 16.51 cm (6.5) Full HD+ screen. The device features a MediaTek Dimensity 700 processor that offers speedy operation. Shop for this 5G-enabled smartphone easily online to experience faster speeds and enhanced connectivity.  <br/>\n",
       " \n",
       "<h2><br/>\n",
       "POCO X3 Pro</h2>\n",
       "With the <a href=\"/poco-x3-pro-steel-blue-128-gb/p/itm92bc566db15d8\">POCO X3 Pro</a> smartphone, you can experience a fast, swift, and sustained phone performance. The smartphone has a powerful quad-camera setup, using which you can click memorable photographs, capturing the gist of your special occasions. The phone offers an efficient 48 MP primary camera, combined with a depth sensor, macro lens, and an ultra wide-angle lens to deliver stunning pictures and cinematic videos.employ state-of-the art technology. These mobiles are priced anywhere between Rs 500 to Rs 100,000. Top mobile brands like Samsung, Oppo, Vivo, Apple and many more are available here under discounts. Apart with these, the latest trend in network connectivity, the 4G network is also made accessible in 4G mobiles from top brands.<br/>\n",
       " </div>\n",
       "<h2><br/>\n",
       "Mobile Brands:</h2>\n",
       "<table width=\"100%\">\n",
       "<tbody>\n",
       "<tr>\n",
       "<td><a href=\"/mobiles/asus~brand/pr?sid=tyy,4io\" title=\"Intex Mobile\">Asus Mobile</a></td>\n",
       "<td><a href=\"/mobiles/realme~brand/pr?sid=tyy,4io\" title=\"Realme Mobile\">Realme Mobile</a></td>\n",
       "<td><a href=\"/mobiles/apple~brand/pr?sid=tyy,4io\" title=\"iPhone\">iPhone</a></td>\n",
       "<td><a href=\"/lenovo-mobile-phones-store\" title=\"Lenovo Mobile\">Lenovo Mobile</a></td>\n",
       "<td><a href=\"/mobiles/~pixel-phones/pr?sid=tyy%2C4io\" title=\"mi Mobile\">Google Pixel Mobile</a></td>\n",
       "</tr>\n",
       "<tr>\n",
       "<td><a href=\"/mobiles/poco~brand/pr?sid=tyy%2C4io\" title=\"LYF Mobile\">Poco Mobile</a></td>\n",
       "<td><a href=\"/htc-mobile-phones-store\" title=\"HTC Mobile\">HTC Mobile</a></td>\n",
       "<td><a href=\"/mobiles/mi~brand/pr?sid=tyy,4io\" title=\"Mi Mobile\">Mi Mobile</a></td>\n",
       "<td><a href=\"/motorola-mobile-phones-store\" title=\"Motorola Mobile\">Motorola Mobile</a></td>\n",
       "<td><a href=\"/lg-mobile-phones-store\" title=\"LG Mobile\">LG Mobile</a></td>\n",
       "</tr>\n",
       "<tr>\n",
       "<td><a href=\"/nokia-mobile-phones-store\" title=\"Nokia Mobile\">Nokia Mobile</a></td>\n",
       "<td><a href=\"/mobiles/iqoo~brand/pr?sid=tyy%2C4io\" title=\"Honor Mobile\">Iqoo Mobile</a></td>\n",
       "<td><a href=\"/panasonic-mobile-phones-store\" title=\"Panasonic Mobile\">Panasonic Mobile</a></td>\n",
       "<td><a href=\"/samsung-mobile-store\" title=\"Samsung Mobile\">Samsung Mobile</a></td>\n",
       "<td><a href=\"/micromax-mobile-phones-store\" title=\"Micromax Mobile\">Micromax Mobile</a></td>\n",
       "</tr>\n",
       "<tr>\n",
       "<td><a href=\"/mobiles/oneplus~brand/pr?sid=tyy,4io\" title=\"Swipe Mobile\">Oneplus Mobile</a></td>\n",
       "<td><a href=\"/gionee-mobile-phones-store\" title=\"Gionee Mobile\">Gionee Mobile</a></td>\n",
       "<td><a href=\"/vivo-mobile-phones-store\" title=\"Vivo Mobile\">Vivo Mobile</a></td>\n",
       "<td><a href=\"/oppo-mobile-phones-store\" title=\"Oppo Mobile\">Oppo Mobile</a></td>\n",
       "</tr>\n",
       "</tbody>\n",
       "</table>\n",
       "<ul>\n",
       "</ul>\n",
       "<h2>Mobiles By Screen Sizes:</h2>\n",
       "<table width=\"100%\">\n",
       "<tbody>\n",
       "<tr>\n",
       "<td><a href=\"/mobiles/~4-inch-mobiles/pr?sid=tyy,4io\" title=\"4 Inch Mobiles\">4 Inch Mobiles</a></td>\n",
       "<td><a href=\"/mobiles/~5-5-inch-mobiles/pr?sid=tyy,4io\" title=\"5.5 inch Mobiles\">5.5 inch Mobiles</a></td>\n",
       "<td><a href=\"/mobiles/~4-5-inch-mobiles/pr?sid=tyy,4io\" title=\"4.5 Inch Mobiles\">4.5 Inch Mobiles</a></td>\n",
       "<td><a href=\"/mobiles/~5-2-inch-mobiles/pr?sid=tyy,4io\" title=\"5.2 Inch Mobiles\">5.2 Inch Mobiles</a></td>\n",
       "</tr>\n",
       "<tr>\n",
       "<td><a href=\"/mobiles/~3-5-inch-mobiles/pr?sid=tyy%2C4io\" title=\"3.5 inch Mobiles\">3.5 inch Mobiles</a></td>\n",
       "<td><a href=\"/mobiles/~6-inch-mobiles/pr?sid=tyy,4io\" title=\"6 inch Mobiles\">6 inch Mobiles</a></td>\n",
       "<td><a href=\"/mobiles/~3-inch-mobiles/pr?sid=tyy,4io\" title=\"3 inch Mobiles\">3 inch Mobiles</a></td>\n",
       "<td><a href=\"/mobiles/~5-inch-mobiles/pr?sid=tyy,4io\" title=\"5 inch Mobiles\">5 inch Mobiles</a></td>\n",
       "</tr>\n",
       "</tbody>\n",
       "</table>\n",
       "<h2><span>Mobiles By RAM:</span></h2>\n",
       "<table width=\"100%\">\n",
       "<tbody>\n",
       "<tr>\n",
       "<td><a href=\"/mobiles/~3-gb-ram-mobiles/pr?sid=tyy,4io\" title=\"3 GB RAM Mobiles\">3 GB RAM Mobiles</a></td>\n",
       "<td><a href=\"/mobiles/~2-gb-ram-mobiles/pr?sid=tyy,4io\" title=\"2 GB RAM Mobiles\">2 GB RAM Mobiles</a></td>\n",
       "<td><a href=\"/mobiles/~4-gb-ram-mobiles/pr?sid=tyy,4io\" title=\"4 GB RAM Mobiles\">4 GB RAM Mobiles</a></td>\n",
       "<td><a href=\"/mobiles/~1-gb-ram-mobiles/pr?sid=tyy%2C4io\" title=\"1 GB RAM Mobiles\">1 GB RAM Mobiles</a></td>\n",
       "</tr>\n",
       "<tr>\n",
       "<td><a href=\"/mobiles/~6-gb-ram-mobiles/pr?sid=tyy,4io\" title=\"6 GB RAM Mobiles\">6 GB RAM Mobiles</a></td>\n",
       "</tr>\n",
       "</tbody>\n",
       "</table>\n",
       " \n",
       "\n",
       "<h2>Appple iPhones</h2>\n",
       "<table width=\"100%\">\n",
       "<tbody>\n",
       "<tr>\n",
       "<td><a href=\"/apple-iphone-11-black-64-gb/p/itm0f37c2240b217\" title=\"iPhone 11\">iPhone 11</a></td>\n",
       "<td><a href=\"/apple-iphone-11-pro-midnight-green-64-gb/p/itm471de0d2e8474\" title=\"iPhone 11 Pro\">iPhone 11 Pro</a></td>\n",
       "<td><a href=\"/apple-iphone-11-pro-max-gold-64-gb/p/itm6ef18218efdf6\" title=\"iPhone 11 Pro Max\">iPhone 11 Pro Max</a></td>\n",
       "<td><a href=\"/apple-iphone-xs-max-space-grey-512-gb/p/itmf944edqzffajx\" title=\"iPhone XS Max\">iPhone XS Max</a></td>\n",
       "</tr>\n",
       "<tr>\n",
       "<td><a href=\"/apple-iphone-xs-silver-64-gb/p/itmf944ecjfgcg6h\" title=\"iPhone XS\">iPhone XS</a></td>\n",
       "<td><a href=\"/apple-iphone-x-space-gray-64-gb/p/itmexrgv6hctyrav\" title=\"iPhone X\">iPhone X</a></td>\n",
       "<td><a href=\"/apple-iphone-8-plus-space-grey-64-gb/p/itmexrgvehtzhh9v\" title=\"iPhone 8 Plus\">iPhone 8 Plus</a></td>\n",
       "<td><a href=\"/apple-iphone-8-gold-64-gb/p/itmexrgvcbsga3zz\" title=\"iPhone 8\">iPhone 8</a></td>\n",
       "</tr>\n",
       "<tr>\n",
       "<td><a href=\"/apple-iphone-7-plus-black-32-gb/p/itmen6davhyetcwf\" title=\"iPhone 7 Plus\">iPhone 7 Plus</a></td>\n",
       "<td><a href=\"/apple-iphone-7-black-32-gb/p/itmen6daftcqwzeg\" title=\"iPhone 7\">iPhone 7</a></td>\n",
       "<td><a href=\"/apple-iphone-se-rose-gold-32-gb/p/itmetm9fyy3n7zfz\" title=\"iPhone se\">iPhone se</a></td>\n",
       "<td><a href=\"/apple-iphone-6s-space-grey-32-gb/p/itmen2yyjfzpspyg\" title=\"iPhone 6s\">iPhone 6s</a></td>\n",
       "</tr>\n",
       "<tr>\n",
       "<td><a href=\"/apple-iphone-12-white-64-gb/p/itm8b88bdc03cd79\">iPhone 12</a></td>\n",
       "</tr>\n",
       "</tbody>\n",
       "</table>\n",
       "</div></div></div></div><div class=\"row faqRow\"><div class=\"col gu12 _36eqtO\"><div class=\"_3JGYOh\"><section class=\"_2pT5nx\"><h2 class=\"_19FKi0\"><span>Question and Answers</span></h2><ol><li class=\"_1Ug_6E\"><div class=\"_1Sykp2\"><span>Q.Which are the best mobile phone brands available in India?</span></div><div class=\"JSB0zB\"><span>A.Samsung, iPhone, Redmi, Realme, and POCO are some of the best mobile phone brands available in the Indian market.</span></div></li><li class=\"_1Ug_6E\"><div class=\"_1Sykp2\"><span>Q.What is the minimum RAM capacity needed for a smartphone?</span></div><div class=\"JSB0zB\"><span>A.4 GB of RAM is considered the bare minimum for a smartphone</span></div></li><li class=\"_1Ug_6E\"><div class=\"_1Sykp2\"><span>Q.What influences the speed of a mobile phone?</span></div><div class=\"JSB0zB\"><span>A.The number of processor cores and the higher clock speed of the processor cores can influence the speed of the mobile phone.</span></div></li><li class=\"_1Ug_6E\"><div class=\"_1Sykp2\"><span>Q.What are the best feature phones available in India?</span></div><div class=\"JSB0zB\"><span>A.Nokia 6310, Nokia 105 SS 2021, Samsung Guru Music 2, and Samsung Metro 350 are some of the best feature phones available in India.</span></div></li><li class=\"_1Ug_6E\"><div class=\"_1Sykp2\"><span>Q.How much storage capacity can I expect in a mobile phone?</span></div><div class=\"JSB0zB\"><span>A.Most smartphones come with an inbuilt storage capacity of 32 GB, 64 GB, and 128 GB. A few high-end models also feature 256 GB or 512 GB of storage capacity.</span></div></li><li class=\"_1Ug_6E\"><div class=\"_1Sykp2\"><span>Q.What are the different display options available on smartphones?</span></div><div class=\"JSB0zB\"><span>A.Capacitive touchscreen LCD, IPS-LCD, AMOLED, OLED, and Super AMOLED are the different display types available in smart mobile phones.</span></div></li><li class=\"_1Ug_6E\"><div class=\"_1Sykp2\"><span>Q.What are the best display resolutions available on smartphones?</span></div><div class=\"JSB0zB\"><span>A.You can find smartphones with HD, FHD, and HD+ resolutions. The higher the display resolution, the sharper the displayed content will appear on the screen.</span></div></li><li class=\"_1Ug_6E\"><div class=\"_1Sykp2\"><span>Q.What are the best quad-camera mobile phones available in India?</span></div><div class=\"JSB0zB\"><span>A.Redmi Note 10S, Samsung Galaxy M32, POCO X3 Pro, vivo X70 Pro, and realme 8 are some of the best mobile phones with a quad-camera setup.</span></div></li><li class=\"_1Ug_6E\"><div class=\"_1Sykp2\"><span>Q.What is the benefit of fast charging in mobile phones?</span></div><div class=\"JSB0zB\"><span>A.Fast charging enables the mobile phone to charge faster than the current charging standard, and it can significantly reduce the time you would typically require to charge your phone.</span></div></li><li class=\"_1Ug_6E\"><div class=\"_1Sykp2\"><span>Q.What are some important features to consider when buying a mobile phone?</span></div><div class=\"JSB0zB\"><span>A.Before purchasing a mobile phone, you must ensure that you consider features and specifications such as the battery capacity, screen size, display type, camera quality, operating system, and SIM compatibility to ensure you purchase a variant that meets all your requirements.</span></div></li><li class=\"_1Ug_6E\"><div class=\"_1Sykp2\"><span>Q.What are the latest mobile models in 2022?</span></div><div class=\"JSB0zB\"><span>A.Nothing Phone 1, Google Pixel 6A, Oppo Reno 8 Pro 5G, Vivo T1X, Realme 8S, Realme C30</span></div></li></ol></section></div></div></div><div><div class=\"_2WErco row\"><div class=\"_2Brcj4\"><div class=\"_3-dnWo\">ABOUT</div><a class=\"_1arVWX\" href=\"/helpcentre?otracker=undefined_footer_navlinks\">Contact Us</a><a class=\"_1arVWX\" href=\"/about-us?otracker=undefined_footer_navlinks\">About Us</a><a class=\"_1arVWX\" href=\"https://www.flipkartcareers.com/?otracker=undefined_footer_navlinks\">Careers</a><a class=\"_1arVWX\" href=\"http://stories.flipkart.com/?otracker=undefined_footer_navlinks\">Flipkart Stories</a><a class=\"_1arVWX\" href=\"/s/press?otracker=undefined_footer_navlinks\">Press</a><a class=\"_1arVWX\" href=\"https://www.flipkartwholesale.com/?otracker=undefined_footer_navlinks\" rel=\"noopener noreferrer\" target=\"_blank\">Flipkart Wholesale</a><a class=\"_1arVWX\" href=\"/corporate-information\">Corporate Information</a></div><div class=\"_2Brcj4\"><div class=\"_3-dnWo\">HELP</div><a class=\"_1arVWX\" href=\"/pages/payments\">Payments</a><a class=\"_1arVWX\" href=\"/pages/shipping\">Shipping</a><a class=\"_1arVWX\" href=\"/helpcentre?catalog=55c9c6edb000002e002c1701&amp;view=CATALOG\">Cancellation &amp; Returns</a><a class=\"_1arVWX\" href=\"/helpcentre?catalog=55c9c8e2b0000023002c1702&amp;view=CATALOG\">FAQ</a><a class=\"_1arVWX\" href=\"https://seller.flipkart.com/fiv?otracker=undefined_footer_navlinks\">Report Infringement</a></div><div class=\"_2Brcj4\"><div class=\"_3-dnWo\">CONSUMER POLICY</div><a class=\"_1arVWX\" href=\"/pages/returnpolicy?otracker=undefined_footer_navlinks\">Return Policy</a><a class=\"_1arVWX\" href=\"/pages/terms?otracker=undefined_footer_navlinks\">Terms Of Use</a><a class=\"_1arVWX\" href=\"/pages/paymentsecurity?otracker=undefined_footer_navlinks\">Security</a><a class=\"_1arVWX\" href=\"/pages/privacypolicy?otracker=undefined_footer_navlinks\">Privacy</a><a class=\"_1arVWX\" href=\"/sitemap?otracker=undefined_footer_navlinks\">Sitemap</a><a class=\"_1arVWX\" href=\"/pages/grievance-redressal-mechanism?otracker=undefined_footer_navlinks\">Grievance Redressal</a><a class=\"_1arVWX\" href=\"/pages/ewaste-compliance-tnc?otracker=undefined_footer_navlinks\">EPR Compliance</a></div><div class=\"_2Brcj4\"><div class=\"_3-dnWo\">SOCIAL</div><a class=\"_1arVWX\" href=\"https://www.facebook.com/flipkart\">Facebook</a><a class=\"_1arVWX\" href=\"https://www.twitter.com/flipkart\">Twitter</a><a class=\"_1arVWX\" href=\"https://www.youtube.com/flipkart\">YouTube</a></div><div class=\"_2Brcj4 address\"><div class=\"_3JHi0r\"><div class=\"_3-dnWo\"><span>Mail Us:</span></div><div class=\"_1U1qnR\"><div class=\"_1LJS6T\"><div class=\"_2NKhZn _1U1qnR\"><p>Flipkart Internet Private Limited, </p>\n",
       "<p> Buildings Alyssa, Begonia &amp; </p>\n",
       "<p> Clove Embassy Tech Village, </p>\n",
       "<p> Outer Ring Road, Devarabeesanahalli Village, </p>\n",
       "<p> Bengaluru, 560103, </p>\n",
       "<p> Karnataka, India</p>\n",
       "</div></div></div></div></div><div class=\"_2Brcj4 address\"><div class=\"_3IT4e6\"><div class=\"_3-dnWo\"><span>Registered Office Address:</span></div><div class=\"_1U1qnR\"><div class=\"_1LJS6T\"><div class=\"_2NKhZn _1U1qnR\"><p>Flipkart Internet Private Limited, </p>\n",
       "<p> Buildings Alyssa, Begonia &amp; </p>\n",
       "<p> Clove Embassy Tech Village, </p>\n",
       "<p> Outer Ring Road, Devarabeesanahalli Village, </p>\n",
       "<p> Bengaluru, 560103, </p>\n",
       "<p> Karnataka, India </p>\n",
       "<p> CIN : U51109KA2012PTC066107 </p>\n",
       "<p> Telephone: <a href=\"tel:044-45614700\">044-45614700</a></p>\n",
       "</div></div></div></div></div></div><div><div class=\"_2uz0vJ\"><div><img src=\"data:image/svg+xml;base64,PHN2ZyB4bWxucz0iaHR0cDovL3d3dy53My5vcmcvMjAwMC9zdmciIHdpZHRoPSIxNiIgaGVpZ2h0PSIxNSIgdmlld0JveD0iMCAwIDE2IDE1Ij4KICAgIDxkZWZzPgogICAgICAgIDxsaW5lYXJHcmFkaWVudCBpZD0iYSIgeDE9IjAlIiB4Mj0iODYuODc2JSIgeTE9IjAlIiB5Mj0iODAuMjAyJSI+CiAgICAgICAgICAgIDxzdG9wIG9mZnNldD0iMCUiIHN0b3AtY29sb3I9IiNGRkQ4MDAiLz4KICAgICAgICAgICAgPHN0b3Agb2Zmc2V0PSIxMDAlIiBzdG9wLWNvbG9yPSIjRkZBRjAwIi8+CiAgICAgICAgPC9saW5lYXJHcmFkaWVudD4KICAgIDwvZGVmcz4KICAgIDxnIGZpbGw9Im5vbmUiIGZpbGwtcnVsZT0iZXZlbm9kZCI+CiAgICAgICAgPHBhdGggZD0iTS0yLTJoMjB2MjBILTJ6Ii8+CiAgICAgICAgPHBhdGggZmlsbD0idXJsKCNhKSIgZmlsbC1ydWxlPSJub256ZXJvIiBkPSJNMTUuOTMgNS42MTRoLTIuOTQ4VjQuMTRjMC0uODE4LS42NTUtMS40NzMtMS40NzMtMS40NzNIOC41NmMtLjgxNyAwLTEuNDczLjY1NS0xLjQ3MyAxLjQ3M3YxLjQ3NEg0LjE0Yy0uODE4IDAtMS40NjYuNjU2LTEuNDY2IDEuNDc0bC0uMDA3IDguMTA1YzAgLjgxOC42NTUgMS40NzQgMS40NzMgMS40NzRoMTEuNzljLjgxOCAwIDEuNDc0LS42NTYgMS40NzQtMS40NzRWNy4wODhjMC0uODE4LS42NTYtMS40NzQtMS40NzQtMS40NzR6bS00LjQyMSAwSDguNTZWNC4xNGgyLjk0OHYxLjQ3NHoiIHRyYW5zZm9ybT0idHJhbnNsYXRlKC0yIC0yKSIvPgogICAgPC9nPgo8L3N2Zz4K\"/><a href=\"https://seller.flipkart.com/?utm_source=fkwebsite&amp;utm_medium=websitedirect\"><span class=\"hDTmm5\">Become a Seller</span></a></div><div><img src=\"data:image/svg+xml;base64,PHN2ZyB4bWxucz0iaHR0cDovL3d3dy53My5vcmcvMjAwMC9zdmciIHdpZHRoPSIxNSIgaGVpZ2h0PSIxNSIgdmlld0JveD0iMCAwIDE1IDE1Ij4KICAgIDxkZWZzPgogICAgICAgIDxsaW5lYXJHcmFkaWVudCBpZD0iYSIgeDE9IjAlIiB4Mj0iODYuODc2JSIgeTE9IjAlIiB5Mj0iODAuMjAyJSI+CiAgICAgICAgICAgIDxzdG9wIG9mZnNldD0iMCUiIHN0b3AtY29sb3I9IiNGRkQ4MDAiLz4KICAgICAgICAgICAgPHN0b3Agb2Zmc2V0PSIxMDAlIiBzdG9wLWNvbG9yPSIjRkZBRjAwIi8+CiAgICAgICAgPC9saW5lYXJHcmFkaWVudD4KICAgIDwvZGVmcz4KICAgIDxnIGZpbGw9Im5vbmUiIGZpbGwtcnVsZT0iZXZlbm9kZCI+CiAgICAgICAgPHBhdGggZD0iTS0zLTNoMjB2MjBILTN6Ii8+CiAgICAgICAgPHBhdGggZmlsbD0idXJsKCNhKSIgZmlsbC1ydWxlPSJub256ZXJvIiBkPSJNMTAuNDkyIDNDNi4zNTMgMyAzIDYuMzYgMyAxMC41YzAgNC4xNCAzLjM1MyA3LjUgNy40OTIgNy41QzE0LjY0IDE4IDE4IDE0LjY0IDE4IDEwLjUgMTggNi4zNiAxNC42NCAzIDEwLjQ5MiAzem0zLjE4IDEyTDEwLjUgMTMuMDg4IDcuMzI3IDE1bC44NC0zLjYwN0w1LjM3IDguOTdsMy42OS0uMzE1TDEwLjUgNS4yNWwxLjQ0IDMuMzk4IDMuNjkuMzE1LTIuNzk4IDIuNDIyLjg0IDMuNjE1eiIgdHJhbnNmb3JtPSJ0cmFuc2xhdGUoLTMgLTMpIi8+CiAgICA8L2c+Cjwvc3ZnPgo=\"/><a href=\"https://brands.flipkart.com\"><span class=\"hDTmm5\">Advertise</span></a></div><div><img src=\"data:image/svg+xml;base64,PHN2ZyB4bWxucz0iaHR0cDovL3d3dy53My5vcmcvMjAwMC9zdmciIHdpZHRoPSIxOCIgaGVpZ2h0PSIxNyIgdmlld0JveD0iMCAwIDE4IDE3Ij4KICAgIDxkZWZzPgogICAgICAgIDxsaW5lYXJHcmFkaWVudCBpZD0iYSIgeDE9IjAlIiB4Mj0iODYuODc2JSIgeTE9IjAlIiB5Mj0iODAuMjAyJSI+CiAgICAgICAgICAgIDxzdG9wIG9mZnNldD0iMCUiIHN0b3AtY29sb3I9IiNGRkQ4MDAiLz4KICAgICAgICAgICAgPHN0b3Agb2Zmc2V0PSIxMDAlIiBzdG9wLWNvbG9yPSIjRkZBRjAwIi8+CiAgICAgICAgPC9saW5lYXJHcmFkaWVudD4KICAgIDwvZGVmcz4KICAgIDxnIGZpbGw9Im5vbmUiIGZpbGwtcnVsZT0iZXZlbm9kZCI+CiAgICAgICAgPHBhdGggZD0iTS0xLTFoMjB2MjBILTF6Ii8+CiAgICAgICAgPHBhdGggZmlsbD0idXJsKCNhKSIgZmlsbC1ydWxlPSJub256ZXJvIiBkPSJNMTYuNjY3IDVIMTQuODVjLjA5Mi0uMjU4LjE1LS41NDIuMTUtLjgzM2EyLjQ5NyAyLjQ5NyAwIDAgMC00LjU4My0xLjM3NUwxMCAzLjM1bC0uNDE3LS41NjdBMi41MSAyLjUxIDAgMCAwIDcuNSAxLjY2N2EyLjQ5NyAyLjQ5NyAwIDAgMC0yLjUgMi41YzAgLjI5MS4wNTguNTc1LjE1LjgzM0gzLjMzM2MtLjkyNSAwLTEuNjU4Ljc0Mi0xLjY1OCAxLjY2N2wtLjAwOCA5LjE2NkExLjY2IDEuNjYgMCAwIDAgMy4zMzMgMTcuNWgxMy4zMzRhMS42NiAxLjY2IDAgMCAwIDEuNjY2LTEuNjY3VjYuNjY3QTEuNjYgMS42NiAwIDAgMCAxNi42NjcgNXptMCA2LjY2N0gzLjMzM3YtNWg0LjIzNEw1LjgzMyA5LjAyNWwxLjM1Ljk3NSAxLjk4NC0yLjdMMTAgNi4xNjdsLjgzMyAxLjEzMyAxLjk4NCAyLjcgMS4zNS0uOTc1LTEuNzM0LTIuMzU4aDQuMjM0djV6IiB0cmFuc2Zvcm09InRyYW5zbGF0ZSgtMSAtMSkiLz4KICAgIDwvZz4KPC9zdmc+Cg==\"/><a href=\"/the-gift-card-store?otracker=undefined_footer_footer_navlinks\"><span class=\"hDTmm5\">Gift Cards</span></a></div><div><img src=\"data:image/svg+xml;base64,PHN2ZyB4bWxucz0iaHR0cDovL3d3dy53My5vcmcvMjAwMC9zdmciIHdpZHRoPSIxNSIgaGVpZ2h0PSIxNSIgdmlld0JveD0iMCAwIDE1IDE1Ij4KICAgIDxkZWZzPgogICAgICAgIDxsaW5lYXJHcmFkaWVudCBpZD0iYSIgeDE9IjAlIiB4Mj0iODYuODc2JSIgeTE9IjAlIiB5Mj0iODAuMjAyJSI+CiAgICAgICAgICAgIDxzdG9wIG9mZnNldD0iMCUiIHN0b3AtY29sb3I9IiNGRkQ4MDAiLz4KICAgICAgICAgICAgPHN0b3Agb2Zmc2V0PSIxMDAlIiBzdG9wLWNvbG9yPSIjRkZBRjAwIi8+CiAgICAgICAgPC9saW5lYXJHcmFkaWVudD4KICAgIDwvZGVmcz4KICAgIDxnIGZpbGw9Im5vbmUiIGZpbGwtcnVsZT0iZXZlbm9kZCI+CiAgICAgICAgPHBhdGggZD0iTS0yLTNoMjB2MjBILTJ6Ii8+CiAgICAgICAgPHBhdGggZmlsbD0idXJsKCNhKSIgZmlsbC1ydWxlPSJub256ZXJvIiBkPSJNOS41IDNDNS4zNiAzIDIgNi4zNiAyIDEwLjUgMiAxNC42NCA1LjM2IDE4IDkuNSAxOGM0LjE0IDAgNy41LTMuMzYgNy41LTcuNUMxNyA2LjM2IDEzLjY0IDMgOS41IDN6bS43NSAxMi43NWgtMS41di0xLjVoMS41djEuNXptMS41NTMtNS44MTNsLS42NzYuNjljLS41NC41NDgtLjg3Ny45OTgtLjg3NyAyLjEyM2gtMS41di0uMzc1YzAtLjgyNS4zMzgtMS41NzUuODc3LTIuMTIzbC45My0uOTQ1Yy4yNzgtLjI3LjQ0My0uNjQ1LjQ0My0xLjA1NyAwLS44MjUtLjY3NS0xLjUtMS41LTEuNVM4IDcuNDI1IDggOC4yNUg2LjVhMyAzIDAgMSAxIDYgMGMwIC42Ni0uMjcgMS4yNi0uNjk3IDEuNjg4eiIgdHJhbnNmb3JtPSJ0cmFuc2xhdGUoLTIgLTMpIi8+CiAgICA8L2c+Cjwvc3ZnPgo=\"/><a href=\"/helpcentre?otracker=undefined_footer_footer_navlinks\"><span class=\"hDTmm5\">Help Center</span></a></div><span class=\"z3ht-w\">© 2007-<!-- -->2023<!-- --> <span>Flipkart.com</span></span><img src=\"//static-assets-web.flixcart.com/fk-p-linchpin-web/fk-cp-zion/img/payment-method_69e7ec.svg\"/></div></div></div></div></footer><div class=\"_1EcK2J _38JCdA\"><div class=\"bra6U8\"><svg class=\"_2TdLiZ\" height=\"27\" viewbox=\"0 0 16 27\" width=\"16\" xmlns=\"http://www.w3.org/2000/svg\"><path class=\"_3ZKfA2\" d=\"M16 23.207L6.11 13.161 16 3.093 12.955 0 0 13.161l12.955 13.161z\" fill=\"#fff\"></path></svg><span>Back to top</span></div></div></div></div> <script id=\"jsonLD\" nonce=\"7116402810293182979\" type=\"application/ld+json\">{}</script> <script id=\"jsonLD\" nonce=\"7116402810293182979\" type=\"application/ld+json\">[{\"@context\":\"http://schema.org\",\"@type\":\"FAQPage\",\"mainEntity\":[{\"@context\":\"http://schema.org\",\"@type\":\"Question\",\"acceptedAnswer\":{\"@context\":\"http://schema.org\",\"@type\":\"Answer\",\"text\":\"Samsung, iPhone, Redmi, Realme, and POCO are some of the best mobile phone brands available in the Indian market.\"},\"name\":\"Which are the best mobile phone brands available in India?\"},{\"@context\":\"http://schema.org\",\"@type\":\"Question\",\"acceptedAnswer\":{\"@context\":\"http://schema.org\",\"@type\":\"Answer\",\"text\":\"4 GB of RAM is considered the bare minimum for a smartphone\"},\"name\":\"What is the minimum RAM capacity needed for a smartphone?\"},{\"@context\":\"http://schema.org\",\"@type\":\"Question\",\"acceptedAnswer\":{\"@context\":\"http://schema.org\",\"@type\":\"Answer\",\"text\":\"The number of processor cores and the higher clock speed of the processor cores can influence the speed of the mobile phone.\"},\"name\":\"What influences the speed of a mobile phone?\"},{\"@context\":\"http://schema.org\",\"@type\":\"Question\",\"acceptedAnswer\":{\"@context\":\"http://schema.org\",\"@type\":\"Answer\",\"text\":\"Nokia 6310, Nokia 105 SS 2021, Samsung Guru Music 2, and Samsung Metro 350 are some of the best feature phones available in India.\"},\"name\":\"What are the best feature phones available in India?\"},{\"@context\":\"http://schema.org\",\"@type\":\"Question\",\"acceptedAnswer\":{\"@context\":\"http://schema.org\",\"@type\":\"Answer\",\"text\":\"Most smartphones come with an inbuilt storage capacity of 32 GB, 64 GB, and 128 GB. A few high-end models also feature 256 GB or 512 GB of storage capacity.\"},\"name\":\"How much storage capacity can I expect in a mobile phone?\"},{\"@context\":\"http://schema.org\",\"@type\":\"Question\",\"acceptedAnswer\":{\"@context\":\"http://schema.org\",\"@type\":\"Answer\",\"text\":\"Capacitive touchscreen LCD, IPS-LCD, AMOLED, OLED, and Super AMOLED are the different display types available in smart mobile phones.\"},\"name\":\"What are the different display options available on smartphones?\"},{\"@context\":\"http://schema.org\",\"@type\":\"Question\",\"acceptedAnswer\":{\"@context\":\"http://schema.org\",\"@type\":\"Answer\",\"text\":\"You can find smartphones with HD, FHD, and HD+ resolutions. The higher the display resolution, the sharper the displayed content will appear on the screen.\"},\"name\":\"What are the best display resolutions available on smartphones?\"},{\"@context\":\"http://schema.org\",\"@type\":\"Question\",\"acceptedAnswer\":{\"@context\":\"http://schema.org\",\"@type\":\"Answer\",\"text\":\"Redmi Note 10S, Samsung Galaxy M32, POCO X3 Pro, vivo X70 Pro, and realme 8 are some of the best mobile phones with a quad-camera setup.\"},\"name\":\"What are the best quad-camera mobile phones available in India?\"},{\"@context\":\"http://schema.org\",\"@type\":\"Question\",\"acceptedAnswer\":{\"@context\":\"http://schema.org\",\"@type\":\"Answer\",\"text\":\"Fast charging enables the mobile phone to charge faster than the current charging standard, and it can significantly reduce the time you would typically require to charge your phone.\"},\"name\":\"What is the benefit of fast charging in mobile phones?\"},{\"@context\":\"http://schema.org\",\"@type\":\"Question\",\"acceptedAnswer\":{\"@context\":\"http://schema.org\",\"@type\":\"Answer\",\"text\":\"Before purchasing a mobile phone, you must ensure that you consider features and specifications such as the battery capacity, screen size, display type, camera quality, operating system, and SIM compatibility to ensure you purchase a variant that meets all your requirements.\"},\"name\":\"What are some important features to consider when buying a mobile phone?\"},{\"@context\":\"http://schema.org\",\"@type\":\"Question\",\"acceptedAnswer\":{\"@context\":\"http://schema.org\",\"@type\":\"Answer\",\"text\":\"Nothing Phone 1, Google Pixel 6A, Oppo Reno 8 Pro 5G, Vivo T1X, Realme 8S, Realme C30\"},\"name\":\"What are the latest mobile models in 2022?\"}]}]</script><script nonce=\"7116402810293182979\" type=\"application/ld+json\">{\n",
       "    \"@context\": \"http://schema.org\",\n",
       "    \"@type\": \"WebSite\",\n",
       "    \"url\": \"http://www.flipkart.com/\",\n",
       "    \"potentialAction\": [{\n",
       "        \"@type\": \"SearchAction\",\n",
       "        \"target\": \"http://www.flipkart.com/search?q={search_term_string}\",\n",
       "        \"query-input\": \"required name=search_term_string\"\n",
       "        },{\n",
       "        \"@type\": \"SearchAction\",\n",
       "        \"target\": \"android-app://com.flipkart.android/flipkart/de_sq_seg_-search.flipkart.com-_{search_term_string}\",\n",
       "        \"query-input\": \"required name=search_term_string\"\n",
       "    }]\n",
       "}</script><script id=\"is_script\" nonce=\"7116402810293182979\">window.__INITIAL_STATE__ = {};</script> <link data-chunk=\"NavMenu\" href=\"//static-assets-web.flixcart.com/fk-p-linchpin-web/fk-cp-zion/css/NavMenu.chunk.10ffe7.css\" rel=\"stylesheet\"/>\n",
       "<link data-chunk=\"BannerWidget\" href=\"//static-assets-web.flixcart.com/fk-p-linchpin-web/fk-cp-zion/css/BannerWidget.chunk.0bc91e.css\" rel=\"stylesheet\"/> <script id=\"__LOADABLE_REQUIRED_CHUNKS__\" type=\"application/json\">[121,13]</script><script id=\"__LOADABLE_REQUIRED_CHUNKS___ext\" type=\"application/json\">{\"namedChunks\":[\"NavMenu\",\"BannerWidget\"]}</script>\n",
       "<script async=\"\" data-chunk=\"NavMenu\" src=\"//static-assets-web.flixcart.com/fk-p-linchpin-web/fk-cp-zion/js/NavMenu.chunk.4c18ab60.js\"></script>\n",
       "<script async=\"\" data-chunk=\"BannerWidget\" src=\"//static-assets-web.flixcart.com/fk-p-linchpin-web/fk-cp-zion/js/BannerWidget.chunk.44c10a9d.js\"></script><script nonce=\"7116402810293182979\">window.omniture={tpv:[],tl:[]};window.omniture.trackPageView=function(){window.omniture.tpv.push(arguments)};window.omniture.trackLink=function(){window.omniture.tl.push(arguments)}\n",
       "\n",
       "    if(window.location.host === 'www.flipkart.com' || /\\.store\\.flipkart\\.com/i.test(window.location.host)){\n",
       "        window.s_account = \"flipkart-prd\"; //omniture account id\n",
       "    }else{\n",
       "        window.s_account = \"flipkart-prd-test\";\n",
       "    }\n",
       "    window.s_isDesktop = true;</script><script nonce=\"7116402810293182979\">function isMobile(){\n",
       "\t\tif (!!(navigator.userAgentData && navigator.userAgentData.mobile) || navigator.userAgent.indexOf(\"Mobile\") !== -1){\n",
       "\t\t\treturn true;\n",
       "\t\t}\n",
       "\t\telse {\n",
       "\t\t\treturn false;\n",
       "\t\t}\n",
       "\t}\n",
       "\n",
       "\tif ('serviceWorker' in navigator && !isMobile()) {\n",
       "\t\tnavigator.serviceWorker.register('/sw.js').then(function(registration) {\n",
       "\t\t\tconsole.log('ServiceWorker registration successful with scope: ', registration.scope);\n",
       "\t\t\tnavigator.onLine && navigator.serviceWorker.controller && navigator.serviceWorker.controller.postMessage('BANDWIDTH_COMPUTE');\n",
       "\t\t\tnavigator.serviceWorker.addEventListener('message', function (event) {\n",
       "\t\t\t\ttry {\n",
       "\t\t\t\t\tconst bandwidthData = JSON.parse(event.data);\n",
       "\t\t\t\t\tif (bandwidthData && bandwidthData.data) {\n",
       "\t\t\t\t\t\twindow.bandwidth = bandwidthData.data.downlink + '_' + bandwidthData.data.computeMethod + '_' + bandwidthData.data.effectiveType + '_' + bandwidthData.data.type;\n",
       "\t\t\t\t\t}\n",
       "\t\t\t\t}catch(err) {\n",
       "\t\t\t\t\tconsole.error('JSON.parse failed:', err);\n",
       "\t\t\t\t}\n",
       "\t\t\t});\n",
       "\t\t})\n",
       "\t\t.catch(function(err) {\n",
       "\t\t\tconsole.error('ServiceWorker registration failed: ', err);\n",
       "\t\t});\n",
       "\t} else if('serviceWorker' in navigator && isMobile()){\n",
       "        navigator.serviceWorker.getRegistration().then(function(registration) {\n",
       "            var serviceWorkerUnregistered=false;\n",
       "            if(registration) {\n",
       "                registration.unregister();\n",
       "                serviceWorkerUnregistered=true;\n",
       "            }\n",
       "            serviceWorkerUnregistered && window.location.reload();\n",
       "        });\n",
       "    }</script> <script async=\"\" defer=\"defer\" id=\"omni_script\" nonce=\"7116402810293182979\" src=\"///www/linchpin/batman-returns/omni/omni16.js\"></script> <script nonce=\"7116402810293182979\">window._pxAppId = 'PXgNtTli3A';</script><script async=\"\" nonce=\"7116402810293182979\" src=\"///px/gNtTli3A/init.js\"></script></body></html>"
      ]
     },
     "execution_count": 8,
     "metadata": {},
     "output_type": "execute_result"
    }
   ],
   "source": [
    "TEXT_HTML"
   ]
  },
  {
   "cell_type": "code",
   "execution_count": 9,
   "id": "8d56090c",
   "metadata": {},
   "outputs": [],
   "source": [
    "import pandas as ps"
   ]
  },
  {
   "cell_type": "code",
   "execution_count": 10,
   "id": "d9f16d85",
   "metadata": {},
   "outputs": [
    {
     "data": {
      "text/plain": [
       "[<div>1. POCO C50 (Royal Blue, 32 GB...</div>,\n",
       " <div>2. POCO C50 (Royal Blue, 32 GB...</div>,\n",
       " <div>3. Nokia 105 SS</div>,\n",
       " <div>4. realme C33 (Sandy Gold, 32 ...</div>,\n",
       " <div>5. MOTOROLA G32 (Mineral Gray,...</div>]"
      ]
     },
     "execution_count": 10,
     "metadata": {},
     "output_type": "execute_result"
    }
   ],
   "source": [
    "brand=TEXT_HTML.select(\"._1W9f5C div\")\n",
    "brand"
   ]
  },
  {
   "cell_type": "code",
   "execution_count": 13,
   "id": "300078eb",
   "metadata": {},
   "outputs": [],
   "source": [
    "phones=ps.DataFrame(brand,columns=['brand'])"
   ]
  },
  {
   "cell_type": "code",
   "execution_count": 14,
   "id": "0d7a3b33",
   "metadata": {},
   "outputs": [
    {
     "data": {
      "text/html": [
       "<div>\n",
       "<style scoped>\n",
       "    .dataframe tbody tr th:only-of-type {\n",
       "        vertical-align: middle;\n",
       "    }\n",
       "\n",
       "    .dataframe tbody tr th {\n",
       "        vertical-align: top;\n",
       "    }\n",
       "\n",
       "    .dataframe thead th {\n",
       "        text-align: right;\n",
       "    }\n",
       "</style>\n",
       "<table border=\"1\" class=\"dataframe\">\n",
       "  <thead>\n",
       "    <tr style=\"text-align: right;\">\n",
       "      <th></th>\n",
       "      <th>brand</th>\n",
       "    </tr>\n",
       "  </thead>\n",
       "  <tbody>\n",
       "    <tr>\n",
       "      <th>0</th>\n",
       "      <td>1. POCO C50 (Royal Blue, 32 GB...</td>\n",
       "    </tr>\n",
       "    <tr>\n",
       "      <th>1</th>\n",
       "      <td>2. POCO C50 (Royal Blue, 32 GB...</td>\n",
       "    </tr>\n",
       "    <tr>\n",
       "      <th>2</th>\n",
       "      <td>3. Nokia 105 SS</td>\n",
       "    </tr>\n",
       "    <tr>\n",
       "      <th>3</th>\n",
       "      <td>4. realme C33 (Sandy Gold, 32 ...</td>\n",
       "    </tr>\n",
       "    <tr>\n",
       "      <th>4</th>\n",
       "      <td>5. MOTOROLA G32 (Mineral Gray,...</td>\n",
       "    </tr>\n",
       "  </tbody>\n",
       "</table>\n",
       "</div>"
      ],
      "text/plain": [
       "                               brand\n",
       "0  1. POCO C50 (Royal Blue, 32 GB...\n",
       "1  2. POCO C50 (Royal Blue, 32 GB...\n",
       "2                    3. Nokia 105 SS\n",
       "3  4. realme C33 (Sandy Gold, 32 ...\n",
       "4  5. MOTOROLA G32 (Mineral Gray,..."
      ]
     },
     "execution_count": 14,
     "metadata": {},
     "output_type": "execute_result"
    }
   ],
   "source": [
    "phones"
   ]
  },
  {
   "cell_type": "code",
   "execution_count": 15,
   "id": "2dc23738",
   "metadata": {},
   "outputs": [],
   "source": [
    "phones=ps.DataFrame(brand,columns=['brand'])"
   ]
  },
  {
   "cell_type": "code",
   "execution_count": 16,
   "id": "044c6f57",
   "metadata": {},
   "outputs": [],
   "source": [
    "phones=ps.DataFrame(brand,columns=['price'])"
   ]
  },
  {
   "cell_type": "code",
   "execution_count": 17,
   "id": "788fe434",
   "metadata": {},
   "outputs": [],
   "source": [
    "phones[\"price\"]=phones"
   ]
  },
  {
   "cell_type": "code",
   "execution_count": 18,
   "id": "9f3022a7",
   "metadata": {},
   "outputs": [],
   "source": [
    "des=TEXT_HTML.select('.UMT9wN')"
   ]
  },
  {
   "cell_type": "code",
   "execution_count": 19,
   "id": "1f4e99dc",
   "metadata": {},
   "outputs": [],
   "source": [
    "phones[\"Description\"]=des"
   ]
  },
  {
   "cell_type": "code",
   "execution_count": 20,
   "id": "64d88519",
   "metadata": {},
   "outputs": [
    {
     "data": {
      "text/html": [
       "<div>\n",
       "<style scoped>\n",
       "    .dataframe tbody tr th:only-of-type {\n",
       "        vertical-align: middle;\n",
       "    }\n",
       "\n",
       "    .dataframe tbody tr th {\n",
       "        vertical-align: top;\n",
       "    }\n",
       "\n",
       "    .dataframe thead th {\n",
       "        text-align: right;\n",
       "    }\n",
       "</style>\n",
       "<table border=\"1\" class=\"dataframe\">\n",
       "  <thead>\n",
       "    <tr style=\"text-align: right;\">\n",
       "      <th></th>\n",
       "      <th>price</th>\n",
       "      <th>Description</th>\n",
       "    </tr>\n",
       "  </thead>\n",
       "  <tbody>\n",
       "    <tr>\n",
       "      <th>0</th>\n",
       "      <td>1. POCO C50 (Royal Blue, 32 GB...</td>\n",
       "      <td>[₹5,749]</td>\n",
       "    </tr>\n",
       "    <tr>\n",
       "      <th>1</th>\n",
       "      <td>2. POCO C50 (Royal Blue, 32 GB...</td>\n",
       "      <td>[₹6,549]</td>\n",
       "    </tr>\n",
       "    <tr>\n",
       "      <th>2</th>\n",
       "      <td>3. Nokia 105 SS</td>\n",
       "      <td>[₹1,299]</td>\n",
       "    </tr>\n",
       "    <tr>\n",
       "      <th>3</th>\n",
       "      <td>4. realme C33 (Sandy Gold, 32 ...</td>\n",
       "      <td>[₹8,999]</td>\n",
       "    </tr>\n",
       "    <tr>\n",
       "      <th>4</th>\n",
       "      <td>5. MOTOROLA G32 (Mineral Gray,...</td>\n",
       "      <td>[₹11,999]</td>\n",
       "    </tr>\n",
       "  </tbody>\n",
       "</table>\n",
       "</div>"
      ],
      "text/plain": [
       "                               price Description\n",
       "0  1. POCO C50 (Royal Blue, 32 GB...    [₹5,749]\n",
       "1  2. POCO C50 (Royal Blue, 32 GB...    [₹6,549]\n",
       "2                    3. Nokia 105 SS    [₹1,299]\n",
       "3  4. realme C33 (Sandy Gold, 32 ...    [₹8,999]\n",
       "4  5. MOTOROLA G32 (Mineral Gray,...   [₹11,999]"
      ]
     },
     "execution_count": 20,
     "metadata": {},
     "output_type": "execute_result"
    }
   ],
   "source": [
    "phones"
   ]
  },
  {
   "cell_type": "code",
   "execution_count": 21,
   "id": "dcc1f5dd",
   "metadata": {},
   "outputs": [],
   "source": [
    "phones.to_csv(\"C:\\\\Users\\\\Admin\\\\desktop\\\\keerthana.csv\")"
   ]
  },
  {
   "cell_type": "code",
   "execution_count": null,
   "id": "4224f783",
   "metadata": {},
   "outputs": [],
   "source": []
  }
 ],
 "metadata": {
  "kernelspec": {
   "display_name": "Python 3 (ipykernel)",
   "language": "python",
   "name": "python3"
  },
  "language_info": {
   "codemirror_mode": {
    "name": "ipython",
    "version": 3
   },
   "file_extension": ".py",
   "mimetype": "text/x-python",
   "name": "python",
   "nbconvert_exporter": "python",
   "pygments_lexer": "ipython3",
   "version": "3.9.7"
  }
 },
 "nbformat": 4,
 "nbformat_minor": 5
}
